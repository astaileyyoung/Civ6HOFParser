{
 "cells": [
  {
   "cell_type": "code",
   "execution_count": 1,
   "metadata": {},
   "outputs": [],
   "source": [
    "import re \n",
    "\n",
    "import pandas as pd\n",
    "import plotly.express as px\n",
    "from plotly import graph_objects as go\n",
    "\n",
    "from watch import get_leaders"
   ]
  },
  {
   "cell_type": "code",
   "execution_count": 3,
   "metadata": {},
   "outputs": [
    {
     "data": {
      "application/vnd.microsoft.datawrangler.viewer.v0+json": {
       "columns": [
        {
         "name": "index",
         "rawType": "int64",
         "type": "integer"
        },
        {
         "name": "Game Turn",
         "rawType": "int64",
         "type": "integer"
        },
        {
         "name": " Player",
         "rawType": "int64",
         "type": "integer"
        },
        {
         "name": " Action",
         "rawType": "object",
         "type": "string"
        },
        {
         "name": " Policy",
         "rawType": "object",
         "type": "string"
        },
        {
         "name": " Score",
         "rawType": "float64",
         "type": "float"
        },
        {
         "name": " Turns",
         "rawType": "float64",
         "type": "float"
        }
       ],
       "conversionMethod": "pd.DataFrame",
       "ref": "75e05926-1677-433a-8d05-ff609a618ca3",
       "rows": [
        [
         "0",
         "1",
         "0",
         " Civic",
         " CIVIC_CODE_OF_LAWS",
         "85.2",
         "10.0"
        ],
        [
         "1",
         "1",
         "0",
         " Civic",
         " CIVIC_CRAFTSMANSHIP",
         "123.7",
         "30.0"
        ],
        [
         "2",
         "1",
         "0",
         " Civic",
         " CIVIC_FOREIGN_TRADE",
         "123.7",
         "30.0"
        ],
        [
         "3",
         "1",
         "0",
         " Civic",
         " CIVIC_MILITARY_TRADITION",
         "123.7",
         "55.0"
        ],
        [
         "4",
         "1",
         "0",
         " Civic",
         " CIVIC_STATE_WORKFORCE",
         "123.7",
         "65.0"
        ],
        [
         "5",
         "1",
         "0",
         " Civic",
         " CIVIC_EARLY_EMPIRE",
         "123.7",
         "65.0"
        ],
        [
         "6",
         "1",
         "0",
         " Civic",
         " CIVIC_MYSTICISM",
         "123.7",
         "55.0"
        ],
        [
         "7",
         "1",
         "1",
         " Civic",
         " CIVIC_CODE_OF_LAWS",
         "85.2",
         "10.0"
        ],
        [
         "8",
         "1",
         "1",
         " Civic",
         " CIVIC_CRAFTSMANSHIP",
         "123.7",
         "30.0"
        ],
        [
         "9",
         "1",
         "1",
         " Civic",
         " CIVIC_FOREIGN_TRADE",
         "123.7",
         "30.0"
        ],
        [
         "10",
         "1",
         "1",
         " Civic",
         " CIVIC_MILITARY_TRADITION",
         "123.7",
         "55.0"
        ],
        [
         "11",
         "1",
         "1",
         " Civic",
         " CIVIC_STATE_WORKFORCE",
         "123.7",
         "65.0"
        ],
        [
         "12",
         "1",
         "1",
         " Civic",
         " CIVIC_EARLY_EMPIRE",
         "123.7",
         "65.0"
        ],
        [
         "13",
         "1",
         "1",
         " Civic",
         " CIVIC_MYSTICISM",
         "123.7",
         "55.0"
        ],
        [
         "14",
         "1",
         "2",
         " Civic",
         " CIVIC_CODE_OF_LAWS",
         "85.2",
         "10.0"
        ],
        [
         "15",
         "1",
         "2",
         " Civic",
         " CIVIC_CRAFTSMANSHIP",
         "123.7",
         "30.0"
        ],
        [
         "16",
         "1",
         "2",
         " Civic",
         " CIVIC_FOREIGN_TRADE",
         "123.7",
         "30.0"
        ],
        [
         "17",
         "1",
         "2",
         " Civic",
         " CIVIC_MILITARY_TRADITION",
         "123.7",
         "55.0"
        ],
        [
         "18",
         "1",
         "2",
         " Civic",
         " CIVIC_STATE_WORKFORCE",
         "123.7",
         "65.0"
        ],
        [
         "19",
         "1",
         "2",
         " Civic",
         " CIVIC_EARLY_EMPIRE",
         "123.7",
         "65.0"
        ],
        [
         "20",
         "1",
         "2",
         " Civic",
         " CIVIC_MYSTICISM",
         "123.7",
         "55.0"
        ],
        [
         "21",
         "1",
         "3",
         " Civic",
         " CIVIC_CODE_OF_LAWS",
         "85.2",
         "10.0"
        ],
        [
         "22",
         "1",
         "3",
         " Civic",
         " CIVIC_CRAFTSMANSHIP",
         "123.7",
         "30.0"
        ],
        [
         "23",
         "1",
         "3",
         " Civic",
         " CIVIC_FOREIGN_TRADE",
         "123.7",
         "30.0"
        ],
        [
         "24",
         "1",
         "3",
         " Civic",
         " CIVIC_MILITARY_TRADITION",
         "123.7",
         "55.0"
        ],
        [
         "25",
         "1",
         "3",
         " Civic",
         " CIVIC_STATE_WORKFORCE",
         "123.7",
         "65.0"
        ],
        [
         "26",
         "1",
         "3",
         " Civic",
         " CIVIC_EARLY_EMPIRE",
         "123.7",
         "65.0"
        ],
        [
         "27",
         "1",
         "3",
         " Civic",
         " CIVIC_MYSTICISM",
         "123.7",
         "55.0"
        ],
        [
         "28",
         "1",
         "4",
         " Civic",
         " CIVIC_CODE_OF_LAWS",
         "85.2",
         "10.0"
        ],
        [
         "29",
         "1",
         "4",
         " Civic",
         " CIVIC_CRAFTSMANSHIP",
         "123.7",
         "30.0"
        ],
        [
         "30",
         "1",
         "4",
         " Civic",
         " CIVIC_FOREIGN_TRADE",
         "123.7",
         "30.0"
        ],
        [
         "31",
         "1",
         "4",
         " Civic",
         " CIVIC_MILITARY_TRADITION",
         "123.7",
         "55.0"
        ],
        [
         "32",
         "1",
         "4",
         " Civic",
         " CIVIC_STATE_WORKFORCE",
         "123.7",
         "65.0"
        ],
        [
         "33",
         "1",
         "4",
         " Civic",
         " CIVIC_EARLY_EMPIRE",
         "123.7",
         "65.0"
        ],
        [
         "34",
         "1",
         "4",
         " Civic",
         " CIVIC_MYSTICISM",
         "123.7",
         "55.0"
        ],
        [
         "35",
         "1",
         "5",
         " Civic",
         " CIVIC_CODE_OF_LAWS",
         "85.2",
         "10.0"
        ],
        [
         "36",
         "1",
         "5",
         " Civic",
         " CIVIC_CRAFTSMANSHIP",
         "123.7",
         "30.0"
        ],
        [
         "37",
         "1",
         "5",
         " Civic",
         " CIVIC_FOREIGN_TRADE",
         "123.7",
         "30.0"
        ],
        [
         "38",
         "1",
         "5",
         " Civic",
         " CIVIC_MILITARY_TRADITION",
         "123.7",
         "55.0"
        ],
        [
         "39",
         "1",
         "5",
         " Civic",
         " CIVIC_STATE_WORKFORCE",
         "123.7",
         "65.0"
        ],
        [
         "40",
         "1",
         "5",
         " Civic",
         " CIVIC_EARLY_EMPIRE",
         "123.7",
         "65.0"
        ],
        [
         "41",
         "1",
         "5",
         " Civic",
         " CIVIC_MYSTICISM",
         "123.7",
         "55.0"
        ],
        [
         "42",
         "1",
         "6",
         " Civic",
         " CIVIC_CODE_OF_LAWS",
         "85.2",
         "10.0"
        ],
        [
         "43",
         "1",
         "6",
         " Civic",
         " CIVIC_CRAFTSMANSHIP",
         "123.7",
         "30.0"
        ],
        [
         "44",
         "1",
         "6",
         " Civic",
         " CIVIC_FOREIGN_TRADE",
         "123.7",
         "30.0"
        ],
        [
         "45",
         "1",
         "6",
         " Civic",
         " CIVIC_MILITARY_TRADITION",
         "123.7",
         "55.0"
        ],
        [
         "46",
         "1",
         "6",
         " Civic",
         " CIVIC_STATE_WORKFORCE",
         "123.7",
         "65.0"
        ],
        [
         "47",
         "1",
         "6",
         " Civic",
         " CIVIC_EARLY_EMPIRE",
         "123.7",
         "65.0"
        ],
        [
         "48",
         "1",
         "6",
         " Civic",
         " CIVIC_MYSTICISM",
         "123.7",
         "55.0"
        ],
        [
         "49",
         "1",
         "7",
         " Civic",
         " CIVIC_CODE_OF_LAWS",
         "85.2",
         "10.0"
        ]
       ],
       "shape": {
        "columns": 6,
        "rows": 9741
       }
      },
      "text/html": [
       "<div>\n",
       "<style scoped>\n",
       "    .dataframe tbody tr th:only-of-type {\n",
       "        vertical-align: middle;\n",
       "    }\n",
       "\n",
       "    .dataframe tbody tr th {\n",
       "        vertical-align: top;\n",
       "    }\n",
       "\n",
       "    .dataframe thead th {\n",
       "        text-align: right;\n",
       "    }\n",
       "</style>\n",
       "<table border=\"1\" class=\"dataframe\">\n",
       "  <thead>\n",
       "    <tr style=\"text-align: right;\">\n",
       "      <th></th>\n",
       "      <th>Game Turn</th>\n",
       "      <th>Player</th>\n",
       "      <th>Action</th>\n",
       "      <th>Policy</th>\n",
       "      <th>Score</th>\n",
       "      <th>Turns</th>\n",
       "    </tr>\n",
       "  </thead>\n",
       "  <tbody>\n",
       "    <tr>\n",
       "      <th>0</th>\n",
       "      <td>1</td>\n",
       "      <td>0</td>\n",
       "      <td>Civic</td>\n",
       "      <td>CIVIC_CODE_OF_LAWS</td>\n",
       "      <td>85.2</td>\n",
       "      <td>10.0</td>\n",
       "    </tr>\n",
       "    <tr>\n",
       "      <th>1</th>\n",
       "      <td>1</td>\n",
       "      <td>0</td>\n",
       "      <td>Civic</td>\n",
       "      <td>CIVIC_CRAFTSMANSHIP</td>\n",
       "      <td>123.7</td>\n",
       "      <td>30.0</td>\n",
       "    </tr>\n",
       "    <tr>\n",
       "      <th>2</th>\n",
       "      <td>1</td>\n",
       "      <td>0</td>\n",
       "      <td>Civic</td>\n",
       "      <td>CIVIC_FOREIGN_TRADE</td>\n",
       "      <td>123.7</td>\n",
       "      <td>30.0</td>\n",
       "    </tr>\n",
       "    <tr>\n",
       "      <th>3</th>\n",
       "      <td>1</td>\n",
       "      <td>0</td>\n",
       "      <td>Civic</td>\n",
       "      <td>CIVIC_MILITARY_TRADITION</td>\n",
       "      <td>123.7</td>\n",
       "      <td>55.0</td>\n",
       "    </tr>\n",
       "    <tr>\n",
       "      <th>4</th>\n",
       "      <td>1</td>\n",
       "      <td>0</td>\n",
       "      <td>Civic</td>\n",
       "      <td>CIVIC_STATE_WORKFORCE</td>\n",
       "      <td>123.7</td>\n",
       "      <td>65.0</td>\n",
       "    </tr>\n",
       "    <tr>\n",
       "      <th>...</th>\n",
       "      <td>...</td>\n",
       "      <td>...</td>\n",
       "      <td>...</td>\n",
       "      <td>...</td>\n",
       "      <td>...</td>\n",
       "      <td>...</td>\n",
       "    </tr>\n",
       "    <tr>\n",
       "      <th>9736</th>\n",
       "      <td>26</td>\n",
       "      <td>0</td>\n",
       "      <td>Policies</td>\n",
       "      <td>POLICY_INSPIRATION</td>\n",
       "      <td>15.0</td>\n",
       "      <td>NaN</td>\n",
       "    </tr>\n",
       "    <tr>\n",
       "      <th>9737</th>\n",
       "      <td>26</td>\n",
       "      <td>0</td>\n",
       "      <td>Policies</td>\n",
       "      <td>POLICY_REVELATION</td>\n",
       "      <td>15.0</td>\n",
       "      <td>NaN</td>\n",
       "    </tr>\n",
       "    <tr>\n",
       "      <th>9738</th>\n",
       "      <td>26</td>\n",
       "      <td>0</td>\n",
       "      <td>Policies</td>\n",
       "      <td>POLICY_CHARISMATIC_LEADER</td>\n",
       "      <td>14.0</td>\n",
       "      <td>NaN</td>\n",
       "    </tr>\n",
       "    <tr>\n",
       "      <th>9739</th>\n",
       "      <td>26</td>\n",
       "      <td>0</td>\n",
       "      <td>Policies</td>\n",
       "      <td>POLICY_DIPLOMATIC_LEAGUE</td>\n",
       "      <td>350.0</td>\n",
       "      <td>NaN</td>\n",
       "    </tr>\n",
       "    <tr>\n",
       "      <th>9740</th>\n",
       "      <td>26</td>\n",
       "      <td>0</td>\n",
       "      <td>Policies</td>\n",
       "      <td>POLICY_LITERARY_TRADITION</td>\n",
       "      <td>15.0</td>\n",
       "      <td>NaN</td>\n",
       "    </tr>\n",
       "  </tbody>\n",
       "</table>\n",
       "<p>9741 rows × 6 columns</p>\n",
       "</div>"
      ],
      "text/plain": [
       "      Game Turn   Player     Action                      Policy   Score  \\\n",
       "0             1        0      Civic          CIVIC_CODE_OF_LAWS    85.2   \n",
       "1             1        0      Civic         CIVIC_CRAFTSMANSHIP   123.7   \n",
       "2             1        0      Civic         CIVIC_FOREIGN_TRADE   123.7   \n",
       "3             1        0      Civic    CIVIC_MILITARY_TRADITION   123.7   \n",
       "4             1        0      Civic       CIVIC_STATE_WORKFORCE   123.7   \n",
       "...         ...      ...        ...                         ...     ...   \n",
       "9736         26        0   Policies          POLICY_INSPIRATION    15.0   \n",
       "9737         26        0   Policies           POLICY_REVELATION    15.0   \n",
       "9738         26        0   Policies   POLICY_CHARISMATIC_LEADER    14.0   \n",
       "9739         26        0   Policies    POLICY_DIPLOMATIC_LEAGUE   350.0   \n",
       "9740         26        0   Policies   POLICY_LITERARY_TRADITION    15.0   \n",
       "\n",
       "       Turns  \n",
       "0       10.0  \n",
       "1       30.0  \n",
       "2       30.0  \n",
       "3       55.0  \n",
       "4       65.0  \n",
       "...      ...  \n",
       "9736     NaN  \n",
       "9737     NaN  \n",
       "9738     NaN  \n",
       "9739     NaN  \n",
       "9740     NaN  \n",
       "\n",
       "[9741 rows x 6 columns]"
      ]
     },
     "execution_count": 3,
     "metadata": {},
     "output_type": "execute_result"
    }
   ],
   "source": [
    "df = pd.read_csv('/home/amos/.local/share/aspyr-media/Sid Meier\\'s Civilization VI/Logs/AI_GovtPolicies.csv')\n",
    "df"
   ]
  },
  {
   "cell_type": "code",
   "execution_count": 5,
   "metadata": {},
   "outputs": [
    {
     "data": {
      "application/vnd.microsoft.datawrangler.viewer.v0+json": {
       "columns": [
        {
         "name": "index",
         "rawType": "int64",
         "type": "integer"
        },
        {
         "name": "Game Turn",
         "rawType": "int64",
         "type": "integer"
        },
        {
         "name": " Player",
         "rawType": "int64",
         "type": "integer"
        },
        {
         "name": " Action",
         "rawType": "object",
         "type": "string"
        },
        {
         "name": " Policy",
         "rawType": "object",
         "type": "string"
        },
        {
         "name": " Score",
         "rawType": "float64",
         "type": "float"
        },
        {
         "name": " Turns",
         "rawType": "float64",
         "type": "float"
        }
       ],
       "conversionMethod": "pd.DataFrame",
       "ref": "f52d813a-c3f9-47c9-a61d-3b900d2d75e4",
       "rows": [
        [
         "1367",
         "6",
         "3",
         " Slot Policy",
         " POLICY_SURVEY",
         "7.0",
         null
        ],
        [
         "1368",
         "6",
         "3",
         " Slot Policy",
         " POLICY_URBAN_PLANNING",
         "18.0",
         null
        ],
        [
         "1378",
         "6",
         "3",
         " Policies",
         " POLICY_SURVEY",
         "7.0",
         null
        ],
        [
         "1380",
         "6",
         "3",
         " Policies",
         " POLICY_URBAN_PLANNING",
         "18.0",
         null
        ],
        [
         "1663",
         "7",
         "2",
         " Slot Policy",
         " POLICY_SURVEY",
         "14.0",
         null
        ],
        [
         "1664",
         "7",
         "2",
         " Slot Policy",
         " POLICY_GOD_KING",
         "19.0",
         null
        ],
        [
         "1674",
         "7",
         "2",
         " Policies",
         " POLICY_SURVEY",
         "30.0",
         null
        ],
        [
         "1675",
         "7",
         "2",
         " Policies",
         " POLICY_GOD_KING",
         "19.0",
         null
        ],
        [
         "1706",
         "7",
         "4",
         " Slot Policy",
         " POLICY_SURVEY",
         "7.0",
         null
        ],
        [
         "1707",
         "7",
         "4",
         " Slot Policy",
         " POLICY_URBAN_PLANNING",
         "36.0",
         null
        ],
        [
         "1717",
         "7",
         "4",
         " Policies",
         " POLICY_SURVEY",
         "7.0",
         null
        ],
        [
         "1719",
         "7",
         "4",
         " Policies",
         " POLICY_URBAN_PLANNING",
         "36.0",
         null
        ],
        [
         "1728",
         "7",
         "5",
         " Slot Policy",
         " POLICY_SURVEY",
         "7.0",
         null
        ],
        [
         "1729",
         "7",
         "5",
         " Slot Policy",
         " POLICY_GOD_KING",
         "19.0",
         null
        ],
        [
         "1739",
         "7",
         "5",
         " Policies",
         " POLICY_SURVEY",
         "7.0",
         null
        ],
        [
         "1740",
         "7",
         "5",
         " Policies",
         " POLICY_GOD_KING",
         "19.0",
         null
        ],
        [
         "1750",
         "7",
         "6",
         " Slot Policy",
         " POLICY_GOD_KING",
         "19.0",
         null
        ],
        [
         "1760",
         "7",
         "6",
         " Policies",
         " POLICY_GOD_KING",
         "19.0",
         null
        ],
        [
         "1769",
         "7",
         "7",
         " Slot Policy",
         " POLICY_SURVEY",
         "7.0",
         null
        ],
        [
         "1770",
         "7",
         "7",
         " Slot Policy",
         " POLICY_URBAN_PLANNING",
         "36.0",
         null
        ],
        [
         "1780",
         "7",
         "7",
         " Policies",
         " POLICY_SURVEY",
         "7.0",
         null
        ],
        [
         "1782",
         "7",
         "7",
         " Policies",
         " POLICY_URBAN_PLANNING",
         "36.0",
         null
        ],
        [
         "1793",
         "7",
         "8",
         " Slot Policy",
         " POLICY_SURVEY",
         "7.0",
         null
        ],
        [
         "1794",
         "7",
         "8",
         " Slot Policy",
         " POLICY_URBAN_PLANNING",
         "36.0",
         null
        ],
        [
         "1804",
         "7",
         "8",
         " Policies",
         " POLICY_SURVEY",
         "7.0",
         null
        ],
        [
         "1806",
         "7",
         "8",
         " Policies",
         " POLICY_URBAN_PLANNING",
         "36.0",
         null
        ],
        [
         "1815",
         "7",
         "9",
         " Slot Policy",
         " POLICY_SURVEY",
         "7.0",
         null
        ],
        [
         "1816",
         "7",
         "9",
         " Slot Policy",
         " POLICY_URBAN_PLANNING",
         "18.0",
         null
        ],
        [
         "1826",
         "7",
         "9",
         " Policies",
         " POLICY_SURVEY",
         "7.0",
         null
        ],
        [
         "1828",
         "7",
         "9",
         " Policies",
         " POLICY_URBAN_PLANNING",
         "18.0",
         null
        ],
        [
         "2031",
         "8",
         "1",
         " Slot Policy",
         " POLICY_SURVEY",
         "7.0",
         null
        ],
        [
         "2032",
         "8",
         "1",
         " Slot Policy",
         " POLICY_URBAN_PLANNING",
         "18.0",
         null
        ],
        [
         "2042",
         "8",
         "1",
         " Policies",
         " POLICY_SURVEY",
         "7.0",
         null
        ],
        [
         "2044",
         "8",
         "1",
         " Policies",
         " POLICY_URBAN_PLANNING",
         "36.0",
         null
        ],
        [
         "2447",
         "9",
         "3",
         " Civic",
         " CIVIC_CRAFTSMANSHIP",
         "120.6",
         "1.0"
        ],
        [
         "2456",
         "9",
         "3",
         " Policies",
         " POLICY_SURVEY",
         "7.0",
         null
        ],
        [
         "2458",
         "9",
         "3",
         " Policies",
         " POLICY_URBAN_PLANNING",
         "36.0",
         null
        ],
        [
         "2469",
         "9",
         "3",
         " Completed Civic",
         " CIVIC_CRAFTSMANSHIP",
         null,
         null
        ],
        [
         "2470",
         "9",
         "3",
         " Slot Policy",
         " POLICY_SURVEY",
         "7.0",
         null
        ],
        [
         "2471",
         "9",
         "3",
         " Slot Policy",
         " POLICY_URBAN_PLANNING",
         "36.0",
         null
        ],
        [
         "2914",
         "10",
         "7",
         " Civic",
         " CIVIC_CRAFTSMANSHIP",
         "180.8",
         "1.0"
        ],
        [
         "2923",
         "10",
         "7",
         " Policies",
         " POLICY_SURVEY",
         "7.0",
         null
        ],
        [
         "2925",
         "10",
         "7",
         " Policies",
         " POLICY_URBAN_PLANNING",
         "36.0",
         null
        ],
        [
         "2934",
         "10",
         "7",
         " Completed Civic",
         " CIVIC_CRAFTSMANSHIP",
         null,
         null
        ],
        [
         "2935",
         "10",
         "7",
         " Slot Policy",
         " POLICY_SURVEY",
         "7.0",
         null
        ],
        [
         "2936",
         "10",
         "7",
         " Slot Policy",
         " POLICY_URBAN_PLANNING",
         "36.0",
         null
        ],
        [
         "2938",
         "10",
         "8",
         " Slot Policy",
         " POLICY_SURVEY",
         "7.0",
         null
        ],
        [
         "2939",
         "10",
         "8",
         " Slot Policy",
         " POLICY_URBAN_PLANNING",
         "36.0",
         null
        ],
        [
         "2949",
         "10",
         "8",
         " Policies",
         " POLICY_SURVEY",
         "7.0",
         null
        ],
        [
         "2951",
         "10",
         "8",
         " Policies",
         " POLICY_URBAN_PLANNING",
         "36.0",
         null
        ]
       ],
       "shape": {
        "columns": 6,
        "rows": 212
       }
      },
      "text/html": [
       "<div>\n",
       "<style scoped>\n",
       "    .dataframe tbody tr th:only-of-type {\n",
       "        vertical-align: middle;\n",
       "    }\n",
       "\n",
       "    .dataframe tbody tr th {\n",
       "        vertical-align: top;\n",
       "    }\n",
       "\n",
       "    .dataframe thead th {\n",
       "        text-align: right;\n",
       "    }\n",
       "</style>\n",
       "<table border=\"1\" class=\"dataframe\">\n",
       "  <thead>\n",
       "    <tr style=\"text-align: right;\">\n",
       "      <th></th>\n",
       "      <th>Game Turn</th>\n",
       "      <th>Player</th>\n",
       "      <th>Action</th>\n",
       "      <th>Policy</th>\n",
       "      <th>Score</th>\n",
       "      <th>Turns</th>\n",
       "    </tr>\n",
       "  </thead>\n",
       "  <tbody>\n",
       "    <tr>\n",
       "      <th>1367</th>\n",
       "      <td>6</td>\n",
       "      <td>3</td>\n",
       "      <td>Slot Policy</td>\n",
       "      <td>POLICY_SURVEY</td>\n",
       "      <td>7.0</td>\n",
       "      <td>NaN</td>\n",
       "    </tr>\n",
       "    <tr>\n",
       "      <th>1368</th>\n",
       "      <td>6</td>\n",
       "      <td>3</td>\n",
       "      <td>Slot Policy</td>\n",
       "      <td>POLICY_URBAN_PLANNING</td>\n",
       "      <td>18.0</td>\n",
       "      <td>NaN</td>\n",
       "    </tr>\n",
       "    <tr>\n",
       "      <th>1378</th>\n",
       "      <td>6</td>\n",
       "      <td>3</td>\n",
       "      <td>Policies</td>\n",
       "      <td>POLICY_SURVEY</td>\n",
       "      <td>7.0</td>\n",
       "      <td>NaN</td>\n",
       "    </tr>\n",
       "    <tr>\n",
       "      <th>1380</th>\n",
       "      <td>6</td>\n",
       "      <td>3</td>\n",
       "      <td>Policies</td>\n",
       "      <td>POLICY_URBAN_PLANNING</td>\n",
       "      <td>18.0</td>\n",
       "      <td>NaN</td>\n",
       "    </tr>\n",
       "    <tr>\n",
       "      <th>1663</th>\n",
       "      <td>7</td>\n",
       "      <td>2</td>\n",
       "      <td>Slot Policy</td>\n",
       "      <td>POLICY_SURVEY</td>\n",
       "      <td>14.0</td>\n",
       "      <td>NaN</td>\n",
       "    </tr>\n",
       "    <tr>\n",
       "      <th>...</th>\n",
       "      <td>...</td>\n",
       "      <td>...</td>\n",
       "      <td>...</td>\n",
       "      <td>...</td>\n",
       "      <td>...</td>\n",
       "      <td>...</td>\n",
       "    </tr>\n",
       "    <tr>\n",
       "      <th>8738</th>\n",
       "      <td>24</td>\n",
       "      <td>1</td>\n",
       "      <td>Policies</td>\n",
       "      <td>POLICY_URBAN_PLANNING</td>\n",
       "      <td>36.0</td>\n",
       "      <td>NaN</td>\n",
       "    </tr>\n",
       "    <tr>\n",
       "      <th>9431</th>\n",
       "      <td>25</td>\n",
       "      <td>8</td>\n",
       "      <td>Slot Policy</td>\n",
       "      <td>POLICY_CONSCRIPTION</td>\n",
       "      <td>14.0</td>\n",
       "      <td>NaN</td>\n",
       "    </tr>\n",
       "    <tr>\n",
       "      <th>9432</th>\n",
       "      <td>25</td>\n",
       "      <td>8</td>\n",
       "      <td>Slot Policy</td>\n",
       "      <td>POLICY_URBAN_PLANNING</td>\n",
       "      <td>54.0</td>\n",
       "      <td>NaN</td>\n",
       "    </tr>\n",
       "    <tr>\n",
       "      <th>9446</th>\n",
       "      <td>25</td>\n",
       "      <td>8</td>\n",
       "      <td>Policies</td>\n",
       "      <td>POLICY_URBAN_PLANNING</td>\n",
       "      <td>54.0</td>\n",
       "      <td>NaN</td>\n",
       "    </tr>\n",
       "    <tr>\n",
       "      <th>9450</th>\n",
       "      <td>25</td>\n",
       "      <td>8</td>\n",
       "      <td>Policies</td>\n",
       "      <td>POLICY_CONSCRIPTION</td>\n",
       "      <td>22.0</td>\n",
       "      <td>NaN</td>\n",
       "    </tr>\n",
       "  </tbody>\n",
       "</table>\n",
       "<p>212 rows × 6 columns</p>\n",
       "</div>"
      ],
      "text/plain": [
       "      Game Turn   Player        Action                  Policy   Score   Turns\n",
       "1367          6        3   Slot Policy           POLICY_SURVEY     7.0     NaN\n",
       "1368          6        3   Slot Policy   POLICY_URBAN_PLANNING    18.0     NaN\n",
       "1378          6        3      Policies           POLICY_SURVEY     7.0     NaN\n",
       "1380          6        3      Policies   POLICY_URBAN_PLANNING    18.0     NaN\n",
       "1663          7        2   Slot Policy           POLICY_SURVEY    14.0     NaN\n",
       "...         ...      ...           ...                     ...     ...     ...\n",
       "8738         24        1      Policies   POLICY_URBAN_PLANNING    36.0     NaN\n",
       "9431         25        8   Slot Policy     POLICY_CONSCRIPTION    14.0     NaN\n",
       "9432         25        8   Slot Policy   POLICY_URBAN_PLANNING    54.0     NaN\n",
       "9446         25        8      Policies   POLICY_URBAN_PLANNING    54.0     NaN\n",
       "9450         25        8      Policies     POLICY_CONSCRIPTION    22.0     NaN\n",
       "\n",
       "[212 rows x 6 columns]"
      ]
     },
     "execution_count": 5,
     "metadata": {},
     "output_type": "execute_result"
    }
   ],
   "source": [
    "df[df.duplicated(subset=['Game Turn', ' Player', ' Policy'], keep=False)]"
   ]
  },
  {
   "cell_type": "code",
   "execution_count": null,
   "metadata": {},
   "outputs": [],
   "source": []
  }
 ],
 "metadata": {
  "kernelspec": {
   "display_name": "civ",
   "language": "python",
   "name": "python3"
  },
  "language_info": {
   "codemirror_mode": {
    "name": "ipython",
    "version": 3
   },
   "file_extension": ".py",
   "mimetype": "text/x-python",
   "name": "python",
   "nbconvert_exporter": "python",
   "pygments_lexer": "ipython3",
   "version": "3.11.11"
  }
 },
 "nbformat": 4,
 "nbformat_minor": 2
}
