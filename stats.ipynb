{
 "cells": [
  {
   "cell_type": "code",
   "execution_count": 34,
   "metadata": {},
   "outputs": [],
   "source": [
    "import re \n",
    "\n",
    "import pandas as pd\n",
    "import plotly.express as px\n",
    "from plotly import graph_objects as go\n",
    "\n",
    "from watch import get_leaders"
   ]
  },
  {
   "cell_type": "code",
   "execution_count": 14,
   "metadata": {},
   "outputs": [
    {
     "data": {
      "application/vnd.microsoft.datawrangler.viewer.v0+json": {
       "columns": [
        {
         "name": "index",
         "rawType": "int64",
         "type": "integer"
        },
        {
         "name": "player_num",
         "rawType": "int64",
         "type": "integer"
        },
        {
         "name": "civilization",
         "rawType": "object",
         "type": "string"
        },
        {
         "name": "leader",
         "rawType": "object",
         "type": "string"
        },
        {
         "name": "civilization_type",
         "rawType": "object",
         "type": "string"
        },
        {
         "name": "player_type",
         "rawType": "object",
         "type": "string"
        }
       ],
       "conversionMethod": "pd.DataFrame",
       "ref": "b6d1b7f3-4ff7-402d-b17b-b523b517e62d",
       "rows": [
        [
         "0",
         "0",
         "CIVILIZATION_OTTOMAN",
         "SULEIMAN",
         "FULL_CIV",
         "Human"
        ],
        [
         "1",
         "1",
         "CIVILIZATION_PHOENICIA",
         "DIDO",
         "FULL_CIV",
         "AI"
        ],
        [
         "2",
         "2",
         "CIVILIZATION_CREE",
         "POUNDMAKER",
         "FULL_CIV",
         "AI"
        ],
        [
         "3",
         "3",
         "CIVILIZATION_SUMERIA",
         "GILGAMESH",
         "FULL_CIV",
         "AI"
        ],
        [
         "4",
         "4",
         "CIVILIZATION_CANADA",
         "LAURIER",
         "FULL_CIV",
         "AI"
        ],
        [
         "5",
         "5",
         "CIVILIZATION_NORWAY",
         "HARDRADA",
         "FULL_CIV",
         "AI"
        ],
        [
         "6",
         "6",
         "CIVILIZATION_JAPAN",
         "HOJO",
         "FULL_CIV",
         "AI"
        ],
        [
         "7",
         "7",
         "CIVILIZATION_AZTEC",
         "MONTEZUMA",
         "FULL_CIV",
         "AI"
        ],
        [
         "8",
         "8",
         "CIVILIZATION_FRANCE",
         "CATHERINE DE MEDICI",
         "FULL_CIV",
         "AI"
        ],
        [
         "9",
         "9",
         "CIVILIZATION_KOREA",
         "SEONDEOK",
         "FULL_CIV",
         "AI"
        ]
       ],
       "shape": {
        "columns": 5,
        "rows": 10
       }
      },
      "text/html": [
       "<div>\n",
       "<style scoped>\n",
       "    .dataframe tbody tr th:only-of-type {\n",
       "        vertical-align: middle;\n",
       "    }\n",
       "\n",
       "    .dataframe tbody tr th {\n",
       "        vertical-align: top;\n",
       "    }\n",
       "\n",
       "    .dataframe thead th {\n",
       "        text-align: right;\n",
       "    }\n",
       "</style>\n",
       "<table border=\"1\" class=\"dataframe\">\n",
       "  <thead>\n",
       "    <tr style=\"text-align: right;\">\n",
       "      <th></th>\n",
       "      <th>player_num</th>\n",
       "      <th>civilization</th>\n",
       "      <th>leader</th>\n",
       "      <th>civilization_type</th>\n",
       "      <th>player_type</th>\n",
       "    </tr>\n",
       "  </thead>\n",
       "  <tbody>\n",
       "    <tr>\n",
       "      <th>0</th>\n",
       "      <td>0</td>\n",
       "      <td>CIVILIZATION_OTTOMAN</td>\n",
       "      <td>SULEIMAN</td>\n",
       "      <td>FULL_CIV</td>\n",
       "      <td>Human</td>\n",
       "    </tr>\n",
       "    <tr>\n",
       "      <th>1</th>\n",
       "      <td>1</td>\n",
       "      <td>CIVILIZATION_PHOENICIA</td>\n",
       "      <td>DIDO</td>\n",
       "      <td>FULL_CIV</td>\n",
       "      <td>AI</td>\n",
       "    </tr>\n",
       "    <tr>\n",
       "      <th>2</th>\n",
       "      <td>2</td>\n",
       "      <td>CIVILIZATION_CREE</td>\n",
       "      <td>POUNDMAKER</td>\n",
       "      <td>FULL_CIV</td>\n",
       "      <td>AI</td>\n",
       "    </tr>\n",
       "    <tr>\n",
       "      <th>3</th>\n",
       "      <td>3</td>\n",
       "      <td>CIVILIZATION_SUMERIA</td>\n",
       "      <td>GILGAMESH</td>\n",
       "      <td>FULL_CIV</td>\n",
       "      <td>AI</td>\n",
       "    </tr>\n",
       "    <tr>\n",
       "      <th>4</th>\n",
       "      <td>4</td>\n",
       "      <td>CIVILIZATION_CANADA</td>\n",
       "      <td>LAURIER</td>\n",
       "      <td>FULL_CIV</td>\n",
       "      <td>AI</td>\n",
       "    </tr>\n",
       "    <tr>\n",
       "      <th>5</th>\n",
       "      <td>5</td>\n",
       "      <td>CIVILIZATION_NORWAY</td>\n",
       "      <td>HARDRADA</td>\n",
       "      <td>FULL_CIV</td>\n",
       "      <td>AI</td>\n",
       "    </tr>\n",
       "    <tr>\n",
       "      <th>6</th>\n",
       "      <td>6</td>\n",
       "      <td>CIVILIZATION_JAPAN</td>\n",
       "      <td>HOJO</td>\n",
       "      <td>FULL_CIV</td>\n",
       "      <td>AI</td>\n",
       "    </tr>\n",
       "    <tr>\n",
       "      <th>7</th>\n",
       "      <td>7</td>\n",
       "      <td>CIVILIZATION_AZTEC</td>\n",
       "      <td>MONTEZUMA</td>\n",
       "      <td>FULL_CIV</td>\n",
       "      <td>AI</td>\n",
       "    </tr>\n",
       "    <tr>\n",
       "      <th>8</th>\n",
       "      <td>8</td>\n",
       "      <td>CIVILIZATION_FRANCE</td>\n",
       "      <td>CATHERINE DE MEDICI</td>\n",
       "      <td>FULL_CIV</td>\n",
       "      <td>AI</td>\n",
       "    </tr>\n",
       "    <tr>\n",
       "      <th>9</th>\n",
       "      <td>9</td>\n",
       "      <td>CIVILIZATION_KOREA</td>\n",
       "      <td>SEONDEOK</td>\n",
       "      <td>FULL_CIV</td>\n",
       "      <td>AI</td>\n",
       "    </tr>\n",
       "  </tbody>\n",
       "</table>\n",
       "</div>"
      ],
      "text/plain": [
       "   player_num            civilization               leader civilization_type  \\\n",
       "0           0    CIVILIZATION_OTTOMAN             SULEIMAN          FULL_CIV   \n",
       "1           1  CIVILIZATION_PHOENICIA                 DIDO          FULL_CIV   \n",
       "2           2       CIVILIZATION_CREE           POUNDMAKER          FULL_CIV   \n",
       "3           3    CIVILIZATION_SUMERIA            GILGAMESH          FULL_CIV   \n",
       "4           4     CIVILIZATION_CANADA              LAURIER          FULL_CIV   \n",
       "5           5     CIVILIZATION_NORWAY             HARDRADA          FULL_CIV   \n",
       "6           6      CIVILIZATION_JAPAN                 HOJO          FULL_CIV   \n",
       "7           7      CIVILIZATION_AZTEC            MONTEZUMA          FULL_CIV   \n",
       "8           8     CIVILIZATION_FRANCE  CATHERINE DE MEDICI          FULL_CIV   \n",
       "9           9      CIVILIZATION_KOREA             SEONDEOK          FULL_CIV   \n",
       "\n",
       "  player_type  \n",
       "0       Human  \n",
       "1          AI  \n",
       "2          AI  \n",
       "3          AI  \n",
       "4          AI  \n",
       "5          AI  \n",
       "6          AI  \n",
       "7          AI  \n",
       "8          AI  \n",
       "9          AI  "
      ]
     },
     "execution_count": 14,
     "metadata": {},
     "output_type": "execute_result"
    }
   ],
   "source": [
    "leaders_df = pd.DataFrame(get_leaders('/home/amos/.local/share/aspyr-media/Sid Meier\\'s Civilization VI/Logs/GameCore.log'))\n",
    "leaders_df = leaders_df[leaders_df['civilization_type'] == 'FULL_CIV']\n",
    "leaders_df['civilization'] = leaders_df['civilization'].map(lambda x: f'CIVILIZATION_{x.strip()}')\n",
    "leaders_df"
   ]
  },
  {
   "cell_type": "code",
   "execution_count": 15,
   "metadata": {},
   "outputs": [
    {
     "data": {
      "text/plain": [
       "array(['SULEIMAN', 'DIDO', 'POUNDMAKER', 'GILGAMESH', 'LAURIER',\n",
       "       'HARDRADA', 'HOJO', 'MONTEZUMA', 'CATHERINE DE MEDICI', 'SEONDEOK'],\n",
       "      dtype=object)"
      ]
     },
     "execution_count": 15,
     "metadata": {},
     "output_type": "execute_result"
    }
   ],
   "source": [
    "leaders_df['leader'].unique()"
   ]
  },
  {
   "cell_type": "code",
   "execution_count": 16,
   "metadata": {},
   "outputs": [
    {
     "data": {
      "application/vnd.microsoft.datawrangler.viewer.v0+json": {
       "columns": [
        {
         "name": "index",
         "rawType": "int64",
         "type": "integer"
        },
        {
         "name": "Game Turn",
         "rawType": "int64",
         "type": "integer"
        },
        {
         "name": " Player",
         "rawType": "object",
         "type": "string"
        },
        {
         "name": " Num Cities",
         "rawType": "int64",
         "type": "integer"
        },
        {
         "name": " Population",
         "rawType": "int64",
         "type": "integer"
        },
        {
         "name": " Techs",
         "rawType": "int64",
         "type": "integer"
        },
        {
         "name": " Civics",
         "rawType": "int64",
         "type": "integer"
        },
        {
         "name": " Land Units",
         "rawType": "int64",
         "type": "integer"
        },
        {
         "name": " corps",
         "rawType": "int64",
         "type": "integer"
        },
        {
         "name": " Armies",
         "rawType": "int64",
         "type": "integer"
        },
        {
         "name": " Naval Units",
         "rawType": "int64",
         "type": "integer"
        },
        {
         "name": " TILES: Owned",
         "rawType": "int64",
         "type": "integer"
        },
        {
         "name": " Improved",
         "rawType": "int64",
         "type": "integer"
        },
        {
         "name": " BALANCE: Gold",
         "rawType": "int64",
         "type": "integer"
        },
        {
         "name": " Faith",
         "rawType": "int64",
         "type": "integer"
        },
        {
         "name": " YIELDS: Science",
         "rawType": "int64",
         "type": "integer"
        },
        {
         "name": " Culture",
         "rawType": "int64",
         "type": "integer"
        },
        {
         "name": " Gold",
         "rawType": "int64",
         "type": "integer"
        },
        {
         "name": " Faith.1",
         "rawType": "int64",
         "type": "integer"
        },
        {
         "name": " Production",
         "rawType": "int64",
         "type": "integer"
        },
        {
         "name": " Food",
         "rawType": "int64",
         "type": "integer"
        }
       ],
       "conversionMethod": "pd.DataFrame",
       "ref": "82ccd181-c1fd-432a-a91c-40cd14f2f245",
       "rows": [
        [
         "0",
         "1",
         "CIVILIZATION_OTTOMAN",
         "0",
         "0",
         "0",
         "0",
         "1",
         "0",
         "0",
         "0",
         "0",
         "0",
         "5",
         "0",
         "0",
         "0",
         "0",
         "0",
         "0",
         "0"
        ],
        [
         "1",
         "1",
         "CIVILIZATION_PHOENICIA",
         "0",
         "0",
         "0",
         "0",
         "3",
         "0",
         "0",
         "0",
         "0",
         "0",
         "5",
         "0",
         "0",
         "0",
         "0",
         "0",
         "0",
         "0"
        ],
        [
         "2",
         "1",
         "CIVILIZATION_CREE",
         "0",
         "0",
         "0",
         "0",
         "3",
         "0",
         "0",
         "0",
         "0",
         "0",
         "5",
         "0",
         "0",
         "0",
         "0",
         "0",
         "0",
         "0"
        ],
        [
         "3",
         "1",
         "CIVILIZATION_SUMERIA",
         "0",
         "0",
         "0",
         "0",
         "3",
         "0",
         "0",
         "0",
         "0",
         "0",
         "5",
         "0",
         "0",
         "0",
         "0",
         "0",
         "0",
         "0"
        ],
        [
         "4",
         "1",
         "CIVILIZATION_CANADA",
         "0",
         "0",
         "0",
         "0",
         "3",
         "0",
         "0",
         "0",
         "0",
         "0",
         "5",
         "0",
         "0",
         "0",
         "0",
         "0",
         "0",
         "0"
        ],
        [
         "5",
         "1",
         "CIVILIZATION_NORWAY",
         "0",
         "0",
         "0",
         "0",
         "3",
         "0",
         "0",
         "0",
         "0",
         "0",
         "5",
         "0",
         "0",
         "0",
         "0",
         "0",
         "0",
         "0"
        ],
        [
         "6",
         "1",
         "CIVILIZATION_JAPAN",
         "0",
         "0",
         "0",
         "0",
         "3",
         "0",
         "0",
         "0",
         "0",
         "0",
         "5",
         "0",
         "0",
         "0",
         "0",
         "0",
         "0",
         "0"
        ],
        [
         "7",
         "1",
         "CIVILIZATION_AZTEC",
         "0",
         "0",
         "0",
         "0",
         "3",
         "0",
         "0",
         "0",
         "0",
         "0",
         "5",
         "0",
         "0",
         "0",
         "0",
         "0",
         "0",
         "0"
        ],
        [
         "8",
         "1",
         "CIVILIZATION_FRANCE",
         "0",
         "0",
         "0",
         "0",
         "3",
         "0",
         "0",
         "0",
         "0",
         "0",
         "5",
         "0",
         "0",
         "0",
         "0",
         "0",
         "0",
         "0"
        ],
        [
         "9",
         "1",
         "CIVILIZATION_KOREA",
         "0",
         "0",
         "0",
         "0",
         "3",
         "0",
         "0",
         "0",
         "0",
         "0",
         "5",
         "0",
         "0",
         "0",
         "0",
         "0",
         "0",
         "0"
        ],
        [
         "10",
         "1",
         "CIVILIZATION_HUNZA",
         "0",
         "0",
         "0",
         "0",
         "3",
         "0",
         "0",
         "0",
         "0",
         "0",
         "5",
         "0",
         "0",
         "0",
         "0",
         "0",
         "0",
         "0"
        ],
        [
         "11",
         "1",
         "CIVILIZATION_AUCKLAND",
         "0",
         "0",
         "0",
         "0",
         "3",
         "0",
         "0",
         "0",
         "0",
         "0",
         "5",
         "0",
         "0",
         "0",
         "0",
         "0",
         "0",
         "0"
        ],
        [
         "12",
         "1",
         "CIVILIZATION_FEZ",
         "0",
         "0",
         "0",
         "0",
         "3",
         "0",
         "0",
         "0",
         "0",
         "0",
         "5",
         "0",
         "0",
         "0",
         "0",
         "0",
         "0",
         "0"
        ],
        [
         "13",
         "1",
         "CIVILIZATION_VILNIUS",
         "0",
         "0",
         "0",
         "0",
         "3",
         "0",
         "0",
         "0",
         "0",
         "0",
         "5",
         "0",
         "0",
         "0",
         "0",
         "0",
         "0",
         "0"
        ],
        [
         "14",
         "1",
         "CIVILIZATION_SAMARKAND",
         "0",
         "0",
         "0",
         "0",
         "3",
         "0",
         "0",
         "0",
         "0",
         "0",
         "5",
         "0",
         "0",
         "0",
         "0",
         "0",
         "0",
         "0"
        ],
        [
         "15",
         "1",
         "CIVILIZATION_NGAZARGAMU",
         "0",
         "0",
         "0",
         "0",
         "3",
         "0",
         "0",
         "0",
         "0",
         "0",
         "5",
         "0",
         "0",
         "0",
         "0",
         "0",
         "0",
         "0"
        ],
        [
         "16",
         "1",
         "CIVILIZATION_JAKARTA",
         "0",
         "0",
         "0",
         "0",
         "3",
         "0",
         "0",
         "0",
         "0",
         "0",
         "5",
         "0",
         "0",
         "0",
         "0",
         "0",
         "0",
         "0"
        ],
        [
         "17",
         "1",
         "CIVILIZATION_LISBON",
         "0",
         "0",
         "0",
         "0",
         "3",
         "0",
         "0",
         "0",
         "0",
         "0",
         "5",
         "0",
         "0",
         "0",
         "0",
         "0",
         "0",
         "0"
        ],
        [
         "18",
         "1",
         "CIVILIZATION_KANDY",
         "0",
         "0",
         "0",
         "0",
         "3",
         "0",
         "0",
         "0",
         "0",
         "0",
         "5",
         "0",
         "0",
         "0",
         "0",
         "0",
         "0",
         "0"
        ],
        [
         "19",
         "1",
         "CIVILIZATION_KABUL",
         "0",
         "0",
         "0",
         "0",
         "3",
         "0",
         "0",
         "0",
         "0",
         "0",
         "5",
         "0",
         "0",
         "0",
         "0",
         "0",
         "0",
         "0"
        ],
        [
         "20",
         "1",
         "CIVILIZATION_HATTUSA",
         "0",
         "0",
         "0",
         "0",
         "3",
         "0",
         "0",
         "0",
         "0",
         "0",
         "5",
         "0",
         "0",
         "0",
         "0",
         "0",
         "0",
         "0"
        ],
        [
         "21",
         "1",
         "CIVILIZATION_ANTIOCH",
         "0",
         "0",
         "0",
         "0",
         "3",
         "0",
         "0",
         "0",
         "0",
         "0",
         "5",
         "0",
         "0",
         "0",
         "0",
         "0",
         "0",
         "0"
        ],
        [
         "22",
         "1",
         "CIVILIZATION_MOHENJO_DARO",
         "0",
         "0",
         "0",
         "0",
         "3",
         "0",
         "0",
         "0",
         "0",
         "0",
         "5",
         "0",
         "0",
         "0",
         "0",
         "0",
         "0",
         "0"
        ],
        [
         "23",
         "1",
         "CIVILIZATION_YEREVAN",
         "0",
         "0",
         "0",
         "0",
         "3",
         "0",
         "0",
         "0",
         "0",
         "0",
         "5",
         "0",
         "0",
         "0",
         "0",
         "0",
         "0",
         "0"
        ],
        [
         "24",
         "1",
         "CIVILIZATION_ANTANANARIVO",
         "0",
         "0",
         "0",
         "0",
         "3",
         "0",
         "0",
         "0",
         "0",
         "0",
         "5",
         "0",
         "0",
         "0",
         "0",
         "0",
         "0",
         "0"
        ],
        [
         "25",
         "1",
         "CIVILIZATION_FREE_CITIES",
         "0",
         "0",
         "0",
         "0",
         "0",
         "0",
         "0",
         "0",
         "0",
         "0",
         "0",
         "0",
         "0",
         "0",
         "0",
         "0",
         "0",
         "0"
        ],
        [
         "26",
         "2",
         "CIVILIZATION_OTTOMAN",
         "1",
         "1",
         "0",
         "0",
         "1",
         "0",
         "0",
         "0",
         "7",
         "0",
         "10",
         "0",
         "2",
         "1",
         "5",
         "0",
         "5",
         "5"
        ],
        [
         "27",
         "2",
         "CIVILIZATION_PHOENICIA",
         "0",
         "0",
         "0",
         "0",
         "3",
         "0",
         "0",
         "0",
         "0",
         "0",
         "5",
         "0",
         "0",
         "0",
         "0",
         "0",
         "0",
         "0"
        ],
        [
         "28",
         "2",
         "CIVILIZATION_CREE",
         "1",
         "1",
         "0",
         "0",
         "3",
         "0",
         "0",
         "0",
         "7",
         "0",
         "13",
         "0",
         "3",
         "1",
         "8",
         "0",
         "6",
         "6"
        ],
        [
         "29",
         "2",
         "CIVILIZATION_SUMERIA",
         "1",
         "1",
         "0",
         "0",
         "3",
         "0",
         "0",
         "0",
         "7",
         "0",
         "13",
         "0",
         "3",
         "1",
         "8",
         "0",
         "9",
         "4"
        ],
        [
         "30",
         "2",
         "CIVILIZATION_CANADA",
         "1",
         "1",
         "0",
         "0",
         "3",
         "0",
         "0",
         "0",
         "7",
         "0",
         "13",
         "0",
         "3",
         "1",
         "8",
         "0",
         "8",
         "5"
        ],
        [
         "31",
         "2",
         "CIVILIZATION_NORWAY",
         "1",
         "1",
         "0",
         "0",
         "3",
         "0",
         "0",
         "0",
         "7",
         "0",
         "13",
         "0",
         "3",
         "1",
         "8",
         "0",
         "9",
         "4"
        ],
        [
         "32",
         "2",
         "CIVILIZATION_JAPAN",
         "1",
         "1",
         "0",
         "0",
         "3",
         "0",
         "0",
         "0",
         "7",
         "0",
         "13",
         "0",
         "3",
         "1",
         "8",
         "0",
         "8",
         "5"
        ],
        [
         "33",
         "2",
         "CIVILIZATION_AZTEC",
         "1",
         "1",
         "0",
         "0",
         "3",
         "0",
         "0",
         "0",
         "7",
         "0",
         "13",
         "0",
         "3",
         "1",
         "8",
         "0",
         "9",
         "4"
        ],
        [
         "34",
         "2",
         "CIVILIZATION_FRANCE",
         "1",
         "1",
         "0",
         "0",
         "3",
         "0",
         "0",
         "0",
         "7",
         "0",
         "13",
         "0",
         "3",
         "1",
         "8",
         "0",
         "8",
         "5"
        ],
        [
         "35",
         "2",
         "CIVILIZATION_KOREA",
         "1",
         "1",
         "0",
         "0",
         "3",
         "0",
         "0",
         "0",
         "7",
         "0",
         "13",
         "0",
         "3",
         "1",
         "8",
         "0",
         "9",
         "4"
        ],
        [
         "36",
         "2",
         "CIVILIZATION_HUNZA",
         "1",
         "1",
         "0",
         "0",
         "3",
         "0",
         "0",
         "0",
         "7",
         "0",
         "10",
         "0",
         "2",
         "1",
         "5",
         "0",
         "3",
         "3"
        ],
        [
         "37",
         "2",
         "CIVILIZATION_AUCKLAND",
         "1",
         "1",
         "0",
         "0",
         "3",
         "0",
         "0",
         "0",
         "7",
         "0",
         "13",
         "0",
         "2",
         "1",
         "8",
         "0",
         "2",
         "4"
        ],
        [
         "38",
         "2",
         "CIVILIZATION_FEZ",
         "1",
         "1",
         "0",
         "0",
         "3",
         "0",
         "0",
         "0",
         "7",
         "0",
         "10",
         "0",
         "2",
         "1",
         "5",
         "0",
         "2",
         "4"
        ],
        [
         "39",
         "2",
         "CIVILIZATION_VILNIUS",
         "1",
         "1",
         "0",
         "0",
         "3",
         "0",
         "0",
         "0",
         "7",
         "0",
         "11",
         "1",
         "2",
         "1",
         "6",
         "1",
         "2",
         "4"
        ],
        [
         "40",
         "2",
         "CIVILIZATION_SAMARKAND",
         "1",
         "1",
         "0",
         "0",
         "3",
         "0",
         "0",
         "0",
         "7",
         "0",
         "12",
         "0",
         "2",
         "1",
         "7",
         "0",
         "3",
         "4"
        ],
        [
         "41",
         "2",
         "CIVILIZATION_NGAZARGAMU",
         "1",
         "1",
         "0",
         "0",
         "3",
         "0",
         "0",
         "0",
         "7",
         "0",
         "12",
         "0",
         "2",
         "1",
         "7",
         "0",
         "2",
         "4"
        ],
        [
         "42",
         "2",
         "CIVILIZATION_JAKARTA",
         "1",
         "1",
         "0",
         "0",
         "3",
         "0",
         "0",
         "0",
         "7",
         "0",
         "10",
         "0",
         "2",
         "1",
         "5",
         "0",
         "2",
         "4"
        ],
        [
         "43",
         "2",
         "CIVILIZATION_LISBON",
         "1",
         "1",
         "0",
         "0",
         "3",
         "0",
         "0",
         "0",
         "7",
         "0",
         "10",
         "0",
         "2",
         "1",
         "5",
         "0",
         "3",
         "4"
        ],
        [
         "44",
         "2",
         "CIVILIZATION_KANDY",
         "1",
         "1",
         "0",
         "0",
         "3",
         "0",
         "0",
         "0",
         "7",
         "0",
         "12",
         "0",
         "2",
         "1",
         "7",
         "0",
         "2",
         "5"
        ],
        [
         "45",
         "2",
         "CIVILIZATION_KABUL",
         "1",
         "1",
         "0",
         "0",
         "3",
         "0",
         "0",
         "0",
         "7",
         "0",
         "10",
         "0",
         "2",
         "1",
         "5",
         "0",
         "2",
         "5"
        ],
        [
         "46",
         "2",
         "CIVILIZATION_HATTUSA",
         "1",
         "1",
         "0",
         "0",
         "3",
         "0",
         "0",
         "0",
         "7",
         "0",
         "10",
         "0",
         "2",
         "1",
         "5",
         "0",
         "2",
         "6"
        ],
        [
         "47",
         "2",
         "CIVILIZATION_ANTIOCH",
         "1",
         "1",
         "0",
         "0",
         "3",
         "0",
         "0",
         "0",
         "7",
         "0",
         "13",
         "0",
         "2",
         "1",
         "8",
         "0",
         "2",
         "3"
        ],
        [
         "48",
         "2",
         "CIVILIZATION_MOHENJO_DARO",
         "1",
         "1",
         "0",
         "0",
         "3",
         "0",
         "0",
         "0",
         "7",
         "0",
         "10",
         "0",
         "2",
         "1",
         "5",
         "0",
         "1",
         "8"
        ],
        [
         "49",
         "2",
         "CIVILIZATION_YEREVAN",
         "1",
         "1",
         "0",
         "0",
         "3",
         "0",
         "0",
         "0",
         "7",
         "0",
         "10",
         "0",
         "2",
         "1",
         "5",
         "0",
         "2",
         "5"
        ]
       ],
       "shape": {
        "columns": 20,
        "rows": 645
       }
      },
      "text/html": [
       "<div>\n",
       "<style scoped>\n",
       "    .dataframe tbody tr th:only-of-type {\n",
       "        vertical-align: middle;\n",
       "    }\n",
       "\n",
       "    .dataframe tbody tr th {\n",
       "        vertical-align: top;\n",
       "    }\n",
       "\n",
       "    .dataframe thead th {\n",
       "        text-align: right;\n",
       "    }\n",
       "</style>\n",
       "<table border=\"1\" class=\"dataframe\">\n",
       "  <thead>\n",
       "    <tr style=\"text-align: right;\">\n",
       "      <th></th>\n",
       "      <th>Game Turn</th>\n",
       "      <th>Player</th>\n",
       "      <th>Num Cities</th>\n",
       "      <th>Population</th>\n",
       "      <th>Techs</th>\n",
       "      <th>Civics</th>\n",
       "      <th>Land Units</th>\n",
       "      <th>corps</th>\n",
       "      <th>Armies</th>\n",
       "      <th>Naval Units</th>\n",
       "      <th>TILES: Owned</th>\n",
       "      <th>Improved</th>\n",
       "      <th>BALANCE: Gold</th>\n",
       "      <th>Faith</th>\n",
       "      <th>YIELDS: Science</th>\n",
       "      <th>Culture</th>\n",
       "      <th>Gold</th>\n",
       "      <th>Faith.1</th>\n",
       "      <th>Production</th>\n",
       "      <th>Food</th>\n",
       "    </tr>\n",
       "  </thead>\n",
       "  <tbody>\n",
       "    <tr>\n",
       "      <th>0</th>\n",
       "      <td>1</td>\n",
       "      <td>CIVILIZATION_OTTOMAN</td>\n",
       "      <td>0</td>\n",
       "      <td>0</td>\n",
       "      <td>0</td>\n",
       "      <td>0</td>\n",
       "      <td>1</td>\n",
       "      <td>0</td>\n",
       "      <td>0</td>\n",
       "      <td>0</td>\n",
       "      <td>0</td>\n",
       "      <td>0</td>\n",
       "      <td>5</td>\n",
       "      <td>0</td>\n",
       "      <td>0</td>\n",
       "      <td>0</td>\n",
       "      <td>0</td>\n",
       "      <td>0</td>\n",
       "      <td>0</td>\n",
       "      <td>0</td>\n",
       "    </tr>\n",
       "    <tr>\n",
       "      <th>1</th>\n",
       "      <td>1</td>\n",
       "      <td>CIVILIZATION_PHOENICIA</td>\n",
       "      <td>0</td>\n",
       "      <td>0</td>\n",
       "      <td>0</td>\n",
       "      <td>0</td>\n",
       "      <td>3</td>\n",
       "      <td>0</td>\n",
       "      <td>0</td>\n",
       "      <td>0</td>\n",
       "      <td>0</td>\n",
       "      <td>0</td>\n",
       "      <td>5</td>\n",
       "      <td>0</td>\n",
       "      <td>0</td>\n",
       "      <td>0</td>\n",
       "      <td>0</td>\n",
       "      <td>0</td>\n",
       "      <td>0</td>\n",
       "      <td>0</td>\n",
       "    </tr>\n",
       "    <tr>\n",
       "      <th>2</th>\n",
       "      <td>1</td>\n",
       "      <td>CIVILIZATION_CREE</td>\n",
       "      <td>0</td>\n",
       "      <td>0</td>\n",
       "      <td>0</td>\n",
       "      <td>0</td>\n",
       "      <td>3</td>\n",
       "      <td>0</td>\n",
       "      <td>0</td>\n",
       "      <td>0</td>\n",
       "      <td>0</td>\n",
       "      <td>0</td>\n",
       "      <td>5</td>\n",
       "      <td>0</td>\n",
       "      <td>0</td>\n",
       "      <td>0</td>\n",
       "      <td>0</td>\n",
       "      <td>0</td>\n",
       "      <td>0</td>\n",
       "      <td>0</td>\n",
       "    </tr>\n",
       "    <tr>\n",
       "      <th>3</th>\n",
       "      <td>1</td>\n",
       "      <td>CIVILIZATION_SUMERIA</td>\n",
       "      <td>0</td>\n",
       "      <td>0</td>\n",
       "      <td>0</td>\n",
       "      <td>0</td>\n",
       "      <td>3</td>\n",
       "      <td>0</td>\n",
       "      <td>0</td>\n",
       "      <td>0</td>\n",
       "      <td>0</td>\n",
       "      <td>0</td>\n",
       "      <td>5</td>\n",
       "      <td>0</td>\n",
       "      <td>0</td>\n",
       "      <td>0</td>\n",
       "      <td>0</td>\n",
       "      <td>0</td>\n",
       "      <td>0</td>\n",
       "      <td>0</td>\n",
       "    </tr>\n",
       "    <tr>\n",
       "      <th>4</th>\n",
       "      <td>1</td>\n",
       "      <td>CIVILIZATION_CANADA</td>\n",
       "      <td>0</td>\n",
       "      <td>0</td>\n",
       "      <td>0</td>\n",
       "      <td>0</td>\n",
       "      <td>3</td>\n",
       "      <td>0</td>\n",
       "      <td>0</td>\n",
       "      <td>0</td>\n",
       "      <td>0</td>\n",
       "      <td>0</td>\n",
       "      <td>5</td>\n",
       "      <td>0</td>\n",
       "      <td>0</td>\n",
       "      <td>0</td>\n",
       "      <td>0</td>\n",
       "      <td>0</td>\n",
       "      <td>0</td>\n",
       "      <td>0</td>\n",
       "    </tr>\n",
       "    <tr>\n",
       "      <th>...</th>\n",
       "      <td>...</td>\n",
       "      <td>...</td>\n",
       "      <td>...</td>\n",
       "      <td>...</td>\n",
       "      <td>...</td>\n",
       "      <td>...</td>\n",
       "      <td>...</td>\n",
       "      <td>...</td>\n",
       "      <td>...</td>\n",
       "      <td>...</td>\n",
       "      <td>...</td>\n",
       "      <td>...</td>\n",
       "      <td>...</td>\n",
       "      <td>...</td>\n",
       "      <td>...</td>\n",
       "      <td>...</td>\n",
       "      <td>...</td>\n",
       "      <td>...</td>\n",
       "      <td>...</td>\n",
       "      <td>...</td>\n",
       "    </tr>\n",
       "    <tr>\n",
       "      <th>640</th>\n",
       "      <td>25</td>\n",
       "      <td>CIVILIZATION_MOHENJO_DARO</td>\n",
       "      <td>1</td>\n",
       "      <td>6</td>\n",
       "      <td>7</td>\n",
       "      <td>6</td>\n",
       "      <td>3</td>\n",
       "      <td>0</td>\n",
       "      <td>0</td>\n",
       "      <td>0</td>\n",
       "      <td>8</td>\n",
       "      <td>2</td>\n",
       "      <td>129</td>\n",
       "      <td>0</td>\n",
       "      <td>5</td>\n",
       "      <td>2</td>\n",
       "      <td>8</td>\n",
       "      <td>0</td>\n",
       "      <td>3</td>\n",
       "      <td>21</td>\n",
       "    </tr>\n",
       "    <tr>\n",
       "      <th>641</th>\n",
       "      <td>25</td>\n",
       "      <td>CIVILIZATION_YEREVAN</td>\n",
       "      <td>1</td>\n",
       "      <td>6</td>\n",
       "      <td>6</td>\n",
       "      <td>6</td>\n",
       "      <td>3</td>\n",
       "      <td>0</td>\n",
       "      <td>0</td>\n",
       "      <td>0</td>\n",
       "      <td>7</td>\n",
       "      <td>4</td>\n",
       "      <td>155</td>\n",
       "      <td>0</td>\n",
       "      <td>4</td>\n",
       "      <td>4</td>\n",
       "      <td>6</td>\n",
       "      <td>0</td>\n",
       "      <td>2</td>\n",
       "      <td>18</td>\n",
       "    </tr>\n",
       "    <tr>\n",
       "      <th>642</th>\n",
       "      <td>25</td>\n",
       "      <td>CIVILIZATION_ANTANANARIVO</td>\n",
       "      <td>1</td>\n",
       "      <td>3</td>\n",
       "      <td>4</td>\n",
       "      <td>6</td>\n",
       "      <td>3</td>\n",
       "      <td>0</td>\n",
       "      <td>0</td>\n",
       "      <td>0</td>\n",
       "      <td>7</td>\n",
       "      <td>1</td>\n",
       "      <td>65</td>\n",
       "      <td>0</td>\n",
       "      <td>3</td>\n",
       "      <td>3</td>\n",
       "      <td>7</td>\n",
       "      <td>0</td>\n",
       "      <td>3</td>\n",
       "      <td>7</td>\n",
       "    </tr>\n",
       "    <tr>\n",
       "      <th>643</th>\n",
       "      <td>25</td>\n",
       "      <td>CIVILIZATION_FREE_CITIES</td>\n",
       "      <td>0</td>\n",
       "      <td>0</td>\n",
       "      <td>0</td>\n",
       "      <td>0</td>\n",
       "      <td>0</td>\n",
       "      <td>0</td>\n",
       "      <td>0</td>\n",
       "      <td>0</td>\n",
       "      <td>0</td>\n",
       "      <td>0</td>\n",
       "      <td>0</td>\n",
       "      <td>0</td>\n",
       "      <td>0</td>\n",
       "      <td>0</td>\n",
       "      <td>0</td>\n",
       "      <td>0</td>\n",
       "      <td>0</td>\n",
       "      <td>0</td>\n",
       "    </tr>\n",
       "    <tr>\n",
       "      <th>644</th>\n",
       "      <td>26</td>\n",
       "      <td>CIVILIZATION_OTTOMAN</td>\n",
       "      <td>3</td>\n",
       "      <td>9</td>\n",
       "      <td>4</td>\n",
       "      <td>3</td>\n",
       "      <td>3</td>\n",
       "      <td>0</td>\n",
       "      <td>0</td>\n",
       "      <td>0</td>\n",
       "      <td>28</td>\n",
       "      <td>1</td>\n",
       "      <td>74</td>\n",
       "      <td>12</td>\n",
       "      <td>5</td>\n",
       "      <td>6</td>\n",
       "      <td>6</td>\n",
       "      <td>0</td>\n",
       "      <td>22</td>\n",
       "      <td>28</td>\n",
       "    </tr>\n",
       "  </tbody>\n",
       "</table>\n",
       "<p>645 rows × 20 columns</p>\n",
       "</div>"
      ],
      "text/plain": [
       "     Game Turn                     Player   Num Cities   Population   Techs  \\\n",
       "0            1       CIVILIZATION_OTTOMAN            0            0       0   \n",
       "1            1     CIVILIZATION_PHOENICIA            0            0       0   \n",
       "2            1          CIVILIZATION_CREE            0            0       0   \n",
       "3            1       CIVILIZATION_SUMERIA            0            0       0   \n",
       "4            1        CIVILIZATION_CANADA            0            0       0   \n",
       "..         ...                        ...          ...          ...     ...   \n",
       "640         25  CIVILIZATION_MOHENJO_DARO            1            6       7   \n",
       "641         25       CIVILIZATION_YEREVAN            1            6       6   \n",
       "642         25  CIVILIZATION_ANTANANARIVO            1            3       4   \n",
       "643         25   CIVILIZATION_FREE_CITIES            0            0       0   \n",
       "644         26       CIVILIZATION_OTTOMAN            3            9       4   \n",
       "\n",
       "      Civics   Land Units   corps   Armies   Naval Units   TILES: Owned  \\\n",
       "0          0            1       0        0             0              0   \n",
       "1          0            3       0        0             0              0   \n",
       "2          0            3       0        0             0              0   \n",
       "3          0            3       0        0             0              0   \n",
       "4          0            3       0        0             0              0   \n",
       "..       ...          ...     ...      ...           ...            ...   \n",
       "640        6            3       0        0             0              8   \n",
       "641        6            3       0        0             0              7   \n",
       "642        6            3       0        0             0              7   \n",
       "643        0            0       0        0             0              0   \n",
       "644        3            3       0        0             0             28   \n",
       "\n",
       "      Improved   BALANCE: Gold   Faith   YIELDS: Science   Culture   Gold  \\\n",
       "0            0               5       0                 0         0      0   \n",
       "1            0               5       0                 0         0      0   \n",
       "2            0               5       0                 0         0      0   \n",
       "3            0               5       0                 0         0      0   \n",
       "4            0               5       0                 0         0      0   \n",
       "..         ...             ...     ...               ...       ...    ...   \n",
       "640          2             129       0                 5         2      8   \n",
       "641          4             155       0                 4         4      6   \n",
       "642          1              65       0                 3         3      7   \n",
       "643          0               0       0                 0         0      0   \n",
       "644          1              74      12                 5         6      6   \n",
       "\n",
       "      Faith.1   Production   Food  \n",
       "0           0            0      0  \n",
       "1           0            0      0  \n",
       "2           0            0      0  \n",
       "3           0            0      0  \n",
       "4           0            0      0  \n",
       "..        ...          ...    ...  \n",
       "640         0            3     21  \n",
       "641         0            2     18  \n",
       "642         0            3      7  \n",
       "643         0            0      0  \n",
       "644         0           22     28  \n",
       "\n",
       "[645 rows x 20 columns]"
      ]
     },
     "execution_count": 16,
     "metadata": {},
     "output_type": "execute_result"
    }
   ],
   "source": [
    "df = pd.read_csv('/home/amos/.local/share/aspyr-media/Sid Meier\\'s Civilization VI/Logs/Player_Stats.csv')\n",
    "df[' Player'] = df[' Player'].map(lambda x: x.strip())\n",
    "df"
   ]
  },
  {
   "cell_type": "code",
   "execution_count": 17,
   "metadata": {},
   "outputs": [
    {
     "data": {
      "application/vnd.microsoft.datawrangler.viewer.v0+json": {
       "columns": [
        {
         "name": "index",
         "rawType": "int64",
         "type": "integer"
        },
        {
         "name": "Game Turn",
         "rawType": "int64",
         "type": "integer"
        },
        {
         "name": " Player",
         "rawType": "object",
         "type": "string"
        },
        {
         "name": " Num Cities",
         "rawType": "int64",
         "type": "integer"
        },
        {
         "name": " Population",
         "rawType": "int64",
         "type": "integer"
        },
        {
         "name": " Techs",
         "rawType": "int64",
         "type": "integer"
        },
        {
         "name": " Civics",
         "rawType": "int64",
         "type": "integer"
        },
        {
         "name": " Land Units",
         "rawType": "int64",
         "type": "integer"
        },
        {
         "name": " corps",
         "rawType": "int64",
         "type": "integer"
        },
        {
         "name": " Armies",
         "rawType": "int64",
         "type": "integer"
        },
        {
         "name": " Naval Units",
         "rawType": "int64",
         "type": "integer"
        },
        {
         "name": " TILES: Owned",
         "rawType": "int64",
         "type": "integer"
        },
        {
         "name": " Improved",
         "rawType": "int64",
         "type": "integer"
        },
        {
         "name": " BALANCE: Gold",
         "rawType": "int64",
         "type": "integer"
        },
        {
         "name": " Faith",
         "rawType": "int64",
         "type": "integer"
        },
        {
         "name": " YIELDS: Science",
         "rawType": "int64",
         "type": "integer"
        },
        {
         "name": " Culture",
         "rawType": "int64",
         "type": "integer"
        },
        {
         "name": " Gold",
         "rawType": "int64",
         "type": "integer"
        },
        {
         "name": " Faith.1",
         "rawType": "int64",
         "type": "integer"
        },
        {
         "name": " Production",
         "rawType": "int64",
         "type": "integer"
        },
        {
         "name": " Food",
         "rawType": "int64",
         "type": "integer"
        },
        {
         "name": "player_num",
         "rawType": "int64",
         "type": "integer"
        },
        {
         "name": "civilization",
         "rawType": "object",
         "type": "string"
        },
        {
         "name": "leader",
         "rawType": "object",
         "type": "string"
        },
        {
         "name": "civilization_type",
         "rawType": "object",
         "type": "string"
        },
        {
         "name": "player_type",
         "rawType": "object",
         "type": "string"
        }
       ],
       "conversionMethod": "pd.DataFrame",
       "ref": "2e384ac0-4007-4adc-b564-5322efa7c2a6",
       "rows": [
        [
         "0",
         "1",
         "CIVILIZATION_OTTOMAN",
         "0",
         "0",
         "0",
         "0",
         "1",
         "0",
         "0",
         "0",
         "0",
         "0",
         "5",
         "0",
         "0",
         "0",
         "0",
         "0",
         "0",
         "0",
         "0",
         "CIVILIZATION_OTTOMAN",
         "SULEIMAN",
         "FULL_CIV",
         "Human"
        ],
        [
         "1",
         "1",
         "CIVILIZATION_PHOENICIA",
         "0",
         "0",
         "0",
         "0",
         "3",
         "0",
         "0",
         "0",
         "0",
         "0",
         "5",
         "0",
         "0",
         "0",
         "0",
         "0",
         "0",
         "0",
         "1",
         "CIVILIZATION_PHOENICIA",
         "DIDO",
         "FULL_CIV",
         "AI"
        ],
        [
         "2",
         "1",
         "CIVILIZATION_CREE",
         "0",
         "0",
         "0",
         "0",
         "3",
         "0",
         "0",
         "0",
         "0",
         "0",
         "5",
         "0",
         "0",
         "0",
         "0",
         "0",
         "0",
         "0",
         "2",
         "CIVILIZATION_CREE",
         "POUNDMAKER",
         "FULL_CIV",
         "AI"
        ],
        [
         "3",
         "1",
         "CIVILIZATION_SUMERIA",
         "0",
         "0",
         "0",
         "0",
         "3",
         "0",
         "0",
         "0",
         "0",
         "0",
         "5",
         "0",
         "0",
         "0",
         "0",
         "0",
         "0",
         "0",
         "3",
         "CIVILIZATION_SUMERIA",
         "GILGAMESH",
         "FULL_CIV",
         "AI"
        ],
        [
         "4",
         "1",
         "CIVILIZATION_CANADA",
         "0",
         "0",
         "0",
         "0",
         "3",
         "0",
         "0",
         "0",
         "0",
         "0",
         "5",
         "0",
         "0",
         "0",
         "0",
         "0",
         "0",
         "0",
         "4",
         "CIVILIZATION_CANADA",
         "LAURIER",
         "FULL_CIV",
         "AI"
        ]
       ],
       "shape": {
        "columns": 25,
        "rows": 5
       }
      },
      "text/html": [
       "<div>\n",
       "<style scoped>\n",
       "    .dataframe tbody tr th:only-of-type {\n",
       "        vertical-align: middle;\n",
       "    }\n",
       "\n",
       "    .dataframe tbody tr th {\n",
       "        vertical-align: top;\n",
       "    }\n",
       "\n",
       "    .dataframe thead th {\n",
       "        text-align: right;\n",
       "    }\n",
       "</style>\n",
       "<table border=\"1\" class=\"dataframe\">\n",
       "  <thead>\n",
       "    <tr style=\"text-align: right;\">\n",
       "      <th></th>\n",
       "      <th>Game Turn</th>\n",
       "      <th>Player</th>\n",
       "      <th>Num Cities</th>\n",
       "      <th>Population</th>\n",
       "      <th>Techs</th>\n",
       "      <th>Civics</th>\n",
       "      <th>Land Units</th>\n",
       "      <th>corps</th>\n",
       "      <th>Armies</th>\n",
       "      <th>Naval Units</th>\n",
       "      <th>...</th>\n",
       "      <th>Culture</th>\n",
       "      <th>Gold</th>\n",
       "      <th>Faith.1</th>\n",
       "      <th>Production</th>\n",
       "      <th>Food</th>\n",
       "      <th>player_num</th>\n",
       "      <th>civilization</th>\n",
       "      <th>leader</th>\n",
       "      <th>civilization_type</th>\n",
       "      <th>player_type</th>\n",
       "    </tr>\n",
       "  </thead>\n",
       "  <tbody>\n",
       "    <tr>\n",
       "      <th>0</th>\n",
       "      <td>1</td>\n",
       "      <td>CIVILIZATION_OTTOMAN</td>\n",
       "      <td>0</td>\n",
       "      <td>0</td>\n",
       "      <td>0</td>\n",
       "      <td>0</td>\n",
       "      <td>1</td>\n",
       "      <td>0</td>\n",
       "      <td>0</td>\n",
       "      <td>0</td>\n",
       "      <td>...</td>\n",
       "      <td>0</td>\n",
       "      <td>0</td>\n",
       "      <td>0</td>\n",
       "      <td>0</td>\n",
       "      <td>0</td>\n",
       "      <td>0</td>\n",
       "      <td>CIVILIZATION_OTTOMAN</td>\n",
       "      <td>SULEIMAN</td>\n",
       "      <td>FULL_CIV</td>\n",
       "      <td>Human</td>\n",
       "    </tr>\n",
       "    <tr>\n",
       "      <th>1</th>\n",
       "      <td>1</td>\n",
       "      <td>CIVILIZATION_PHOENICIA</td>\n",
       "      <td>0</td>\n",
       "      <td>0</td>\n",
       "      <td>0</td>\n",
       "      <td>0</td>\n",
       "      <td>3</td>\n",
       "      <td>0</td>\n",
       "      <td>0</td>\n",
       "      <td>0</td>\n",
       "      <td>...</td>\n",
       "      <td>0</td>\n",
       "      <td>0</td>\n",
       "      <td>0</td>\n",
       "      <td>0</td>\n",
       "      <td>0</td>\n",
       "      <td>1</td>\n",
       "      <td>CIVILIZATION_PHOENICIA</td>\n",
       "      <td>DIDO</td>\n",
       "      <td>FULL_CIV</td>\n",
       "      <td>AI</td>\n",
       "    </tr>\n",
       "    <tr>\n",
       "      <th>2</th>\n",
       "      <td>1</td>\n",
       "      <td>CIVILIZATION_CREE</td>\n",
       "      <td>0</td>\n",
       "      <td>0</td>\n",
       "      <td>0</td>\n",
       "      <td>0</td>\n",
       "      <td>3</td>\n",
       "      <td>0</td>\n",
       "      <td>0</td>\n",
       "      <td>0</td>\n",
       "      <td>...</td>\n",
       "      <td>0</td>\n",
       "      <td>0</td>\n",
       "      <td>0</td>\n",
       "      <td>0</td>\n",
       "      <td>0</td>\n",
       "      <td>2</td>\n",
       "      <td>CIVILIZATION_CREE</td>\n",
       "      <td>POUNDMAKER</td>\n",
       "      <td>FULL_CIV</td>\n",
       "      <td>AI</td>\n",
       "    </tr>\n",
       "    <tr>\n",
       "      <th>3</th>\n",
       "      <td>1</td>\n",
       "      <td>CIVILIZATION_SUMERIA</td>\n",
       "      <td>0</td>\n",
       "      <td>0</td>\n",
       "      <td>0</td>\n",
       "      <td>0</td>\n",
       "      <td>3</td>\n",
       "      <td>0</td>\n",
       "      <td>0</td>\n",
       "      <td>0</td>\n",
       "      <td>...</td>\n",
       "      <td>0</td>\n",
       "      <td>0</td>\n",
       "      <td>0</td>\n",
       "      <td>0</td>\n",
       "      <td>0</td>\n",
       "      <td>3</td>\n",
       "      <td>CIVILIZATION_SUMERIA</td>\n",
       "      <td>GILGAMESH</td>\n",
       "      <td>FULL_CIV</td>\n",
       "      <td>AI</td>\n",
       "    </tr>\n",
       "    <tr>\n",
       "      <th>4</th>\n",
       "      <td>1</td>\n",
       "      <td>CIVILIZATION_CANADA</td>\n",
       "      <td>0</td>\n",
       "      <td>0</td>\n",
       "      <td>0</td>\n",
       "      <td>0</td>\n",
       "      <td>3</td>\n",
       "      <td>0</td>\n",
       "      <td>0</td>\n",
       "      <td>0</td>\n",
       "      <td>...</td>\n",
       "      <td>0</td>\n",
       "      <td>0</td>\n",
       "      <td>0</td>\n",
       "      <td>0</td>\n",
       "      <td>0</td>\n",
       "      <td>4</td>\n",
       "      <td>CIVILIZATION_CANADA</td>\n",
       "      <td>LAURIER</td>\n",
       "      <td>FULL_CIV</td>\n",
       "      <td>AI</td>\n",
       "    </tr>\n",
       "  </tbody>\n",
       "</table>\n",
       "<p>5 rows × 25 columns</p>\n",
       "</div>"
      ],
      "text/plain": [
       "   Game Turn                  Player   Num Cities   Population   Techs  \\\n",
       "0          1    CIVILIZATION_OTTOMAN            0            0       0   \n",
       "1          1  CIVILIZATION_PHOENICIA            0            0       0   \n",
       "2          1       CIVILIZATION_CREE            0            0       0   \n",
       "3          1    CIVILIZATION_SUMERIA            0            0       0   \n",
       "4          1     CIVILIZATION_CANADA            0            0       0   \n",
       "\n",
       "    Civics   Land Units   corps   Armies   Naval Units  ...   Culture   Gold  \\\n",
       "0        0            1       0        0             0  ...         0      0   \n",
       "1        0            3       0        0             0  ...         0      0   \n",
       "2        0            3       0        0             0  ...         0      0   \n",
       "3        0            3       0        0             0  ...         0      0   \n",
       "4        0            3       0        0             0  ...         0      0   \n",
       "\n",
       "    Faith.1   Production   Food  player_num            civilization  \\\n",
       "0         0            0      0           0    CIVILIZATION_OTTOMAN   \n",
       "1         0            0      0           1  CIVILIZATION_PHOENICIA   \n",
       "2         0            0      0           2       CIVILIZATION_CREE   \n",
       "3         0            0      0           3    CIVILIZATION_SUMERIA   \n",
       "4         0            0      0           4     CIVILIZATION_CANADA   \n",
       "\n",
       "       leader  civilization_type  player_type  \n",
       "0    SULEIMAN           FULL_CIV        Human  \n",
       "1        DIDO           FULL_CIV           AI  \n",
       "2  POUNDMAKER           FULL_CIV           AI  \n",
       "3   GILGAMESH           FULL_CIV           AI  \n",
       "4     LAURIER           FULL_CIV           AI  \n",
       "\n",
       "[5 rows x 25 columns]"
      ]
     },
     "execution_count": 17,
     "metadata": {},
     "output_type": "execute_result"
    }
   ],
   "source": [
    "df = df.merge(leaders_df,\n",
    "              how='inner',\n",
    "              left_on=' Player',\n",
    "              right_on='civilization')\n",
    "df.head()"
   ]
  },
  {
   "cell_type": "code",
   "execution_count": 18,
   "metadata": {},
   "outputs": [
    {
     "data": {
      "text/plain": [
       "array(['SULEIMAN', 'DIDO', 'POUNDMAKER', 'GILGAMESH', 'LAURIER',\n",
       "       'HARDRADA', 'HOJO', 'MONTEZUMA', 'CATHERINE DE MEDICI', 'SEONDEOK'],\n",
       "      dtype=object)"
      ]
     },
     "execution_count": 18,
     "metadata": {},
     "output_type": "execute_result"
    }
   ],
   "source": [
    "df['leader'].unique()"
   ]
  },
  {
   "cell_type": "code",
   "execution_count": 32,
   "metadata": {},
   "outputs": [
    {
     "data": {
      "text/plain": [
       "8       1\n",
       "18      2\n",
       "28      3\n",
       "38      4\n",
       "48      5\n",
       "58      6\n",
       "68      7\n",
       "78      8\n",
       "88      9\n",
       "98     10\n",
       "108    11\n",
       "118    12\n",
       "128    13\n",
       "138    14\n",
       "148    15\n",
       "158    16\n",
       "168    17\n",
       "178    18\n",
       "188    19\n",
       "198    20\n",
       "208    21\n",
       "218    22\n",
       "228    23\n",
       "238    24\n",
       "248    25\n",
       "Name: Game Turn, dtype: int64"
      ]
     },
     "execution_count": 32,
     "metadata": {},
     "output_type": "execute_result"
    }
   ],
   "source": [
    "catherine = df[df['leader'] == 'CATHERINE DE MEDICI']\n",
    "catherine['Game Turn']"
   ]
  },
  {
   "cell_type": "code",
   "execution_count": 26,
   "metadata": {},
   "outputs": [
    {
     "data": {
      "application/vnd.microsoft.datawrangler.viewer.v0+json": {
       "columns": [
        {
         "name": "index",
         "rawType": "int64",
         "type": "integer"
        },
        {
         "name": "Game Turn",
         "rawType": "int64",
         "type": "integer"
        },
        {
         "name": " Production",
         "rawType": "int64",
         "type": "integer"
        }
       ],
       "conversionMethod": "pd.DataFrame",
       "ref": "84c5b717-e559-449f-b353-1ca50e2c361a",
       "rows": [
        [
         "8",
         "1",
         "0"
        ],
        [
         "18",
         "2",
         "8"
        ],
        [
         "28",
         "3",
         "8"
        ],
        [
         "38",
         "4",
         "8"
        ],
        [
         "48",
         "5",
         "15"
        ],
        [
         "58",
         "6",
         "15"
        ],
        [
         "68",
         "7",
         "19"
        ],
        [
         "78",
         "8",
         "19"
        ],
        [
         "88",
         "9",
         "20"
        ],
        [
         "98",
         "10",
         "22"
        ],
        [
         "108",
         "11",
         "22"
        ],
        [
         "118",
         "12",
         "25"
        ],
        [
         "128",
         "13",
         "22"
        ],
        [
         "138",
         "14",
         "25"
        ],
        [
         "148",
         "15",
         "33"
        ],
        [
         "158",
         "16",
         "33"
        ],
        [
         "168",
         "17",
         "36"
        ],
        [
         "178",
         "18",
         "37"
        ],
        [
         "188",
         "19",
         "37"
        ],
        [
         "198",
         "20",
         "37"
        ],
        [
         "208",
         "21",
         "35"
        ],
        [
         "218",
         "22",
         "31"
        ],
        [
         "228",
         "23",
         "44"
        ],
        [
         "238",
         "24",
         "41"
        ],
        [
         "248",
         "25",
         "51"
        ]
       ],
       "shape": {
        "columns": 2,
        "rows": 25
       }
      },
      "text/html": [
       "<div>\n",
       "<style scoped>\n",
       "    .dataframe tbody tr th:only-of-type {\n",
       "        vertical-align: middle;\n",
       "    }\n",
       "\n",
       "    .dataframe tbody tr th {\n",
       "        vertical-align: top;\n",
       "    }\n",
       "\n",
       "    .dataframe thead th {\n",
       "        text-align: right;\n",
       "    }\n",
       "</style>\n",
       "<table border=\"1\" class=\"dataframe\">\n",
       "  <thead>\n",
       "    <tr style=\"text-align: right;\">\n",
       "      <th></th>\n",
       "      <th>Game Turn</th>\n",
       "      <th>Production</th>\n",
       "    </tr>\n",
       "  </thead>\n",
       "  <tbody>\n",
       "    <tr>\n",
       "      <th>8</th>\n",
       "      <td>1</td>\n",
       "      <td>0</td>\n",
       "    </tr>\n",
       "    <tr>\n",
       "      <th>18</th>\n",
       "      <td>2</td>\n",
       "      <td>8</td>\n",
       "    </tr>\n",
       "    <tr>\n",
       "      <th>28</th>\n",
       "      <td>3</td>\n",
       "      <td>8</td>\n",
       "    </tr>\n",
       "    <tr>\n",
       "      <th>38</th>\n",
       "      <td>4</td>\n",
       "      <td>8</td>\n",
       "    </tr>\n",
       "    <tr>\n",
       "      <th>48</th>\n",
       "      <td>5</td>\n",
       "      <td>15</td>\n",
       "    </tr>\n",
       "    <tr>\n",
       "      <th>58</th>\n",
       "      <td>6</td>\n",
       "      <td>15</td>\n",
       "    </tr>\n",
       "    <tr>\n",
       "      <th>68</th>\n",
       "      <td>7</td>\n",
       "      <td>19</td>\n",
       "    </tr>\n",
       "    <tr>\n",
       "      <th>78</th>\n",
       "      <td>8</td>\n",
       "      <td>19</td>\n",
       "    </tr>\n",
       "    <tr>\n",
       "      <th>88</th>\n",
       "      <td>9</td>\n",
       "      <td>20</td>\n",
       "    </tr>\n",
       "    <tr>\n",
       "      <th>98</th>\n",
       "      <td>10</td>\n",
       "      <td>22</td>\n",
       "    </tr>\n",
       "    <tr>\n",
       "      <th>108</th>\n",
       "      <td>11</td>\n",
       "      <td>22</td>\n",
       "    </tr>\n",
       "    <tr>\n",
       "      <th>118</th>\n",
       "      <td>12</td>\n",
       "      <td>25</td>\n",
       "    </tr>\n",
       "    <tr>\n",
       "      <th>128</th>\n",
       "      <td>13</td>\n",
       "      <td>22</td>\n",
       "    </tr>\n",
       "    <tr>\n",
       "      <th>138</th>\n",
       "      <td>14</td>\n",
       "      <td>25</td>\n",
       "    </tr>\n",
       "    <tr>\n",
       "      <th>148</th>\n",
       "      <td>15</td>\n",
       "      <td>33</td>\n",
       "    </tr>\n",
       "    <tr>\n",
       "      <th>158</th>\n",
       "      <td>16</td>\n",
       "      <td>33</td>\n",
       "    </tr>\n",
       "    <tr>\n",
       "      <th>168</th>\n",
       "      <td>17</td>\n",
       "      <td>36</td>\n",
       "    </tr>\n",
       "    <tr>\n",
       "      <th>178</th>\n",
       "      <td>18</td>\n",
       "      <td>37</td>\n",
       "    </tr>\n",
       "    <tr>\n",
       "      <th>188</th>\n",
       "      <td>19</td>\n",
       "      <td>37</td>\n",
       "    </tr>\n",
       "    <tr>\n",
       "      <th>198</th>\n",
       "      <td>20</td>\n",
       "      <td>37</td>\n",
       "    </tr>\n",
       "    <tr>\n",
       "      <th>208</th>\n",
       "      <td>21</td>\n",
       "      <td>35</td>\n",
       "    </tr>\n",
       "    <tr>\n",
       "      <th>218</th>\n",
       "      <td>22</td>\n",
       "      <td>31</td>\n",
       "    </tr>\n",
       "    <tr>\n",
       "      <th>228</th>\n",
       "      <td>23</td>\n",
       "      <td>44</td>\n",
       "    </tr>\n",
       "    <tr>\n",
       "      <th>238</th>\n",
       "      <td>24</td>\n",
       "      <td>41</td>\n",
       "    </tr>\n",
       "    <tr>\n",
       "      <th>248</th>\n",
       "      <td>25</td>\n",
       "      <td>51</td>\n",
       "    </tr>\n",
       "  </tbody>\n",
       "</table>\n",
       "</div>"
      ],
      "text/plain": [
       "     Game Turn   Production\n",
       "8            1            0\n",
       "18           2            8\n",
       "28           3            8\n",
       "38           4            8\n",
       "48           5           15\n",
       "58           6           15\n",
       "68           7           19\n",
       "78           8           19\n",
       "88           9           20\n",
       "98          10           22\n",
       "108         11           22\n",
       "118         12           25\n",
       "128         13           22\n",
       "138         14           25\n",
       "148         15           33\n",
       "158         16           33\n",
       "168         17           36\n",
       "178         18           37\n",
       "188         19           37\n",
       "198         20           37\n",
       "208         21           35\n",
       "218         22           31\n",
       "228         23           44\n",
       "238         24           41\n",
       "248         25           51"
      ]
     },
     "execution_count": 26,
     "metadata": {},
     "output_type": "execute_result"
    }
   ],
   "source": [
    "df[df['leader'] == 'CATHERINE DE MEDICI'][['Game Turn', ' Production']]"
   ]
  },
  {
   "cell_type": "code",
   "execution_count": 33,
   "metadata": {},
   "outputs": [
    {
     "data": {
      "application/vnd.plotly.v1+json": {
       "config": {
        "plotlyServerURL": "https://plotly.com"
       },
       "data": [
        {
         "line": {
          "color": "blue",
          "width": 2
         },
         "marker": {
          "size": 5
         },
         "mode": "lines+markers",
         "name": "Production",
         "type": "scatter",
         "x": {
          "bdata": "AQIDBAUGBwgJCgsMDQ4PEBESExQVFhcYGQ==",
          "dtype": "i1"
         },
         "y": {
          "bdata": "AAgICA8PExMUFhYZFhkhISQlJSUjHywpMw==",
          "dtype": "i1"
         }
        }
       ],
       "layout": {
        "template": {
         "data": {
          "bar": [
           {
            "error_x": {
             "color": "#2a3f5f"
            },
            "error_y": {
             "color": "#2a3f5f"
            },
            "marker": {
             "line": {
              "color": "#E5ECF6",
              "width": 0.5
             },
             "pattern": {
              "fillmode": "overlay",
              "size": 10,
              "solidity": 0.2
             }
            },
            "type": "bar"
           }
          ],
          "barpolar": [
           {
            "marker": {
             "line": {
              "color": "#E5ECF6",
              "width": 0.5
             },
             "pattern": {
              "fillmode": "overlay",
              "size": 10,
              "solidity": 0.2
             }
            },
            "type": "barpolar"
           }
          ],
          "carpet": [
           {
            "aaxis": {
             "endlinecolor": "#2a3f5f",
             "gridcolor": "white",
             "linecolor": "white",
             "minorgridcolor": "white",
             "startlinecolor": "#2a3f5f"
            },
            "baxis": {
             "endlinecolor": "#2a3f5f",
             "gridcolor": "white",
             "linecolor": "white",
             "minorgridcolor": "white",
             "startlinecolor": "#2a3f5f"
            },
            "type": "carpet"
           }
          ],
          "choropleth": [
           {
            "colorbar": {
             "outlinewidth": 0,
             "ticks": ""
            },
            "type": "choropleth"
           }
          ],
          "contour": [
           {
            "colorbar": {
             "outlinewidth": 0,
             "ticks": ""
            },
            "colorscale": [
             [
              0,
              "#0d0887"
             ],
             [
              0.1111111111111111,
              "#46039f"
             ],
             [
              0.2222222222222222,
              "#7201a8"
             ],
             [
              0.3333333333333333,
              "#9c179e"
             ],
             [
              0.4444444444444444,
              "#bd3786"
             ],
             [
              0.5555555555555556,
              "#d8576b"
             ],
             [
              0.6666666666666666,
              "#ed7953"
             ],
             [
              0.7777777777777778,
              "#fb9f3a"
             ],
             [
              0.8888888888888888,
              "#fdca26"
             ],
             [
              1,
              "#f0f921"
             ]
            ],
            "type": "contour"
           }
          ],
          "contourcarpet": [
           {
            "colorbar": {
             "outlinewidth": 0,
             "ticks": ""
            },
            "type": "contourcarpet"
           }
          ],
          "heatmap": [
           {
            "colorbar": {
             "outlinewidth": 0,
             "ticks": ""
            },
            "colorscale": [
             [
              0,
              "#0d0887"
             ],
             [
              0.1111111111111111,
              "#46039f"
             ],
             [
              0.2222222222222222,
              "#7201a8"
             ],
             [
              0.3333333333333333,
              "#9c179e"
             ],
             [
              0.4444444444444444,
              "#bd3786"
             ],
             [
              0.5555555555555556,
              "#d8576b"
             ],
             [
              0.6666666666666666,
              "#ed7953"
             ],
             [
              0.7777777777777778,
              "#fb9f3a"
             ],
             [
              0.8888888888888888,
              "#fdca26"
             ],
             [
              1,
              "#f0f921"
             ]
            ],
            "type": "heatmap"
           }
          ],
          "histogram": [
           {
            "marker": {
             "pattern": {
              "fillmode": "overlay",
              "size": 10,
              "solidity": 0.2
             }
            },
            "type": "histogram"
           }
          ],
          "histogram2d": [
           {
            "colorbar": {
             "outlinewidth": 0,
             "ticks": ""
            },
            "colorscale": [
             [
              0,
              "#0d0887"
             ],
             [
              0.1111111111111111,
              "#46039f"
             ],
             [
              0.2222222222222222,
              "#7201a8"
             ],
             [
              0.3333333333333333,
              "#9c179e"
             ],
             [
              0.4444444444444444,
              "#bd3786"
             ],
             [
              0.5555555555555556,
              "#d8576b"
             ],
             [
              0.6666666666666666,
              "#ed7953"
             ],
             [
              0.7777777777777778,
              "#fb9f3a"
             ],
             [
              0.8888888888888888,
              "#fdca26"
             ],
             [
              1,
              "#f0f921"
             ]
            ],
            "type": "histogram2d"
           }
          ],
          "histogram2dcontour": [
           {
            "colorbar": {
             "outlinewidth": 0,
             "ticks": ""
            },
            "colorscale": [
             [
              0,
              "#0d0887"
             ],
             [
              0.1111111111111111,
              "#46039f"
             ],
             [
              0.2222222222222222,
              "#7201a8"
             ],
             [
              0.3333333333333333,
              "#9c179e"
             ],
             [
              0.4444444444444444,
              "#bd3786"
             ],
             [
              0.5555555555555556,
              "#d8576b"
             ],
             [
              0.6666666666666666,
              "#ed7953"
             ],
             [
              0.7777777777777778,
              "#fb9f3a"
             ],
             [
              0.8888888888888888,
              "#fdca26"
             ],
             [
              1,
              "#f0f921"
             ]
            ],
            "type": "histogram2dcontour"
           }
          ],
          "mesh3d": [
           {
            "colorbar": {
             "outlinewidth": 0,
             "ticks": ""
            },
            "type": "mesh3d"
           }
          ],
          "parcoords": [
           {
            "line": {
             "colorbar": {
              "outlinewidth": 0,
              "ticks": ""
             }
            },
            "type": "parcoords"
           }
          ],
          "pie": [
           {
            "automargin": true,
            "type": "pie"
           }
          ],
          "scatter": [
           {
            "fillpattern": {
             "fillmode": "overlay",
             "size": 10,
             "solidity": 0.2
            },
            "type": "scatter"
           }
          ],
          "scatter3d": [
           {
            "line": {
             "colorbar": {
              "outlinewidth": 0,
              "ticks": ""
             }
            },
            "marker": {
             "colorbar": {
              "outlinewidth": 0,
              "ticks": ""
             }
            },
            "type": "scatter3d"
           }
          ],
          "scattercarpet": [
           {
            "marker": {
             "colorbar": {
              "outlinewidth": 0,
              "ticks": ""
             }
            },
            "type": "scattercarpet"
           }
          ],
          "scattergeo": [
           {
            "marker": {
             "colorbar": {
              "outlinewidth": 0,
              "ticks": ""
             }
            },
            "type": "scattergeo"
           }
          ],
          "scattergl": [
           {
            "marker": {
             "colorbar": {
              "outlinewidth": 0,
              "ticks": ""
             }
            },
            "type": "scattergl"
           }
          ],
          "scattermap": [
           {
            "marker": {
             "colorbar": {
              "outlinewidth": 0,
              "ticks": ""
             }
            },
            "type": "scattermap"
           }
          ],
          "scattermapbox": [
           {
            "marker": {
             "colorbar": {
              "outlinewidth": 0,
              "ticks": ""
             }
            },
            "type": "scattermapbox"
           }
          ],
          "scatterpolar": [
           {
            "marker": {
             "colorbar": {
              "outlinewidth": 0,
              "ticks": ""
             }
            },
            "type": "scatterpolar"
           }
          ],
          "scatterpolargl": [
           {
            "marker": {
             "colorbar": {
              "outlinewidth": 0,
              "ticks": ""
             }
            },
            "type": "scatterpolargl"
           }
          ],
          "scatterternary": [
           {
            "marker": {
             "colorbar": {
              "outlinewidth": 0,
              "ticks": ""
             }
            },
            "type": "scatterternary"
           }
          ],
          "surface": [
           {
            "colorbar": {
             "outlinewidth": 0,
             "ticks": ""
            },
            "colorscale": [
             [
              0,
              "#0d0887"
             ],
             [
              0.1111111111111111,
              "#46039f"
             ],
             [
              0.2222222222222222,
              "#7201a8"
             ],
             [
              0.3333333333333333,
              "#9c179e"
             ],
             [
              0.4444444444444444,
              "#bd3786"
             ],
             [
              0.5555555555555556,
              "#d8576b"
             ],
             [
              0.6666666666666666,
              "#ed7953"
             ],
             [
              0.7777777777777778,
              "#fb9f3a"
             ],
             [
              0.8888888888888888,
              "#fdca26"
             ],
             [
              1,
              "#f0f921"
             ]
            ],
            "type": "surface"
           }
          ],
          "table": [
           {
            "cells": {
             "fill": {
              "color": "#EBF0F8"
             },
             "line": {
              "color": "white"
             }
            },
            "header": {
             "fill": {
              "color": "#C8D4E3"
             },
             "line": {
              "color": "white"
             }
            },
            "type": "table"
           }
          ]
         },
         "layout": {
          "annotationdefaults": {
           "arrowcolor": "#2a3f5f",
           "arrowhead": 0,
           "arrowwidth": 1
          },
          "autotypenumbers": "strict",
          "coloraxis": {
           "colorbar": {
            "outlinewidth": 0,
            "ticks": ""
           }
          },
          "colorscale": {
           "diverging": [
            [
             0,
             "#8e0152"
            ],
            [
             0.1,
             "#c51b7d"
            ],
            [
             0.2,
             "#de77ae"
            ],
            [
             0.3,
             "#f1b6da"
            ],
            [
             0.4,
             "#fde0ef"
            ],
            [
             0.5,
             "#f7f7f7"
            ],
            [
             0.6,
             "#e6f5d0"
            ],
            [
             0.7,
             "#b8e186"
            ],
            [
             0.8,
             "#7fbc41"
            ],
            [
             0.9,
             "#4d9221"
            ],
            [
             1,
             "#276419"
            ]
           ],
           "sequential": [
            [
             0,
             "#0d0887"
            ],
            [
             0.1111111111111111,
             "#46039f"
            ],
            [
             0.2222222222222222,
             "#7201a8"
            ],
            [
             0.3333333333333333,
             "#9c179e"
            ],
            [
             0.4444444444444444,
             "#bd3786"
            ],
            [
             0.5555555555555556,
             "#d8576b"
            ],
            [
             0.6666666666666666,
             "#ed7953"
            ],
            [
             0.7777777777777778,
             "#fb9f3a"
            ],
            [
             0.8888888888888888,
             "#fdca26"
            ],
            [
             1,
             "#f0f921"
            ]
           ],
           "sequentialminus": [
            [
             0,
             "#0d0887"
            ],
            [
             0.1111111111111111,
             "#46039f"
            ],
            [
             0.2222222222222222,
             "#7201a8"
            ],
            [
             0.3333333333333333,
             "#9c179e"
            ],
            [
             0.4444444444444444,
             "#bd3786"
            ],
            [
             0.5555555555555556,
             "#d8576b"
            ],
            [
             0.6666666666666666,
             "#ed7953"
            ],
            [
             0.7777777777777778,
             "#fb9f3a"
            ],
            [
             0.8888888888888888,
             "#fdca26"
            ],
            [
             1,
             "#f0f921"
            ]
           ]
          },
          "colorway": [
           "#636efa",
           "#EF553B",
           "#00cc96",
           "#ab63fa",
           "#FFA15A",
           "#19d3f3",
           "#FF6692",
           "#B6E880",
           "#FF97FF",
           "#FECB52"
          ],
          "font": {
           "color": "#2a3f5f"
          },
          "geo": {
           "bgcolor": "white",
           "lakecolor": "white",
           "landcolor": "#E5ECF6",
           "showlakes": true,
           "showland": true,
           "subunitcolor": "white"
          },
          "hoverlabel": {
           "align": "left"
          },
          "hovermode": "closest",
          "mapbox": {
           "style": "light"
          },
          "paper_bgcolor": "white",
          "plot_bgcolor": "#E5ECF6",
          "polar": {
           "angularaxis": {
            "gridcolor": "white",
            "linecolor": "white",
            "ticks": ""
           },
           "bgcolor": "#E5ECF6",
           "radialaxis": {
            "gridcolor": "white",
            "linecolor": "white",
            "ticks": ""
           }
          },
          "scene": {
           "xaxis": {
            "backgroundcolor": "#E5ECF6",
            "gridcolor": "white",
            "gridwidth": 2,
            "linecolor": "white",
            "showbackground": true,
            "ticks": "",
            "zerolinecolor": "white"
           },
           "yaxis": {
            "backgroundcolor": "#E5ECF6",
            "gridcolor": "white",
            "gridwidth": 2,
            "linecolor": "white",
            "showbackground": true,
            "ticks": "",
            "zerolinecolor": "white"
           },
           "zaxis": {
            "backgroundcolor": "#E5ECF6",
            "gridcolor": "white",
            "gridwidth": 2,
            "linecolor": "white",
            "showbackground": true,
            "ticks": "",
            "zerolinecolor": "white"
           }
          },
          "shapedefaults": {
           "line": {
            "color": "#2a3f5f"
           }
          },
          "ternary": {
           "aaxis": {
            "gridcolor": "white",
            "linecolor": "white",
            "ticks": ""
           },
           "baxis": {
            "gridcolor": "white",
            "linecolor": "white",
            "ticks": ""
           },
           "bgcolor": "#E5ECF6",
           "caxis": {
            "gridcolor": "white",
            "linecolor": "white",
            "ticks": ""
           }
          },
          "title": {
           "x": 0.05
          },
          "xaxis": {
           "automargin": true,
           "gridcolor": "white",
           "linecolor": "white",
           "ticks": "",
           "title": {
            "standoff": 15
           },
           "zerolinecolor": "white",
           "zerolinewidth": 2
          },
          "yaxis": {
           "automargin": true,
           "gridcolor": "white",
           "linecolor": "white",
           "ticks": "",
           "title": {
            "standoff": 15
           },
           "zerolinecolor": "white",
           "zerolinewidth": 2
          }
         }
        }
       }
      }
     },
     "metadata": {},
     "output_type": "display_data"
    }
   ],
   "source": [
    "data = [go.Scatter(x=catherine['Game Turn'],\n",
    "                   y=catherine[' Production'],\n",
    "                   mode='lines+markers',\n",
    "                   name='Production',\n",
    "                   line=dict(color='blue', width=2),\n",
    "                   marker=dict(size=5))]\n",
    "fig = go.Figure(data)\n",
    "fig.show()"
   ]
  },
  {
   "cell_type": "code",
   "execution_count": 37,
   "metadata": {},
   "outputs": [
    {
     "data": {
      "application/vnd.plotly.v1+json": {
       "config": {
        "plotlyServerURL": "https://plotly.com"
       },
       "data": [
        {
         "hovertemplate": "<b>%{hovertext}</b><br><br>leader=SULEIMAN<br>Game Turn=%{x}<br> Production=%{y}<extra></extra>",
         "hovertext": [
          "CIVILIZATION_OTTOMAN",
          "CIVILIZATION_OTTOMAN",
          "CIVILIZATION_OTTOMAN",
          "CIVILIZATION_OTTOMAN",
          "CIVILIZATION_OTTOMAN",
          "CIVILIZATION_OTTOMAN",
          "CIVILIZATION_OTTOMAN",
          "CIVILIZATION_OTTOMAN",
          "CIVILIZATION_OTTOMAN",
          "CIVILIZATION_OTTOMAN",
          "CIVILIZATION_OTTOMAN",
          "CIVILIZATION_OTTOMAN",
          "CIVILIZATION_OTTOMAN",
          "CIVILIZATION_OTTOMAN",
          "CIVILIZATION_OTTOMAN",
          "CIVILIZATION_OTTOMAN",
          "CIVILIZATION_OTTOMAN",
          "CIVILIZATION_OTTOMAN",
          "CIVILIZATION_OTTOMAN",
          "CIVILIZATION_OTTOMAN",
          "CIVILIZATION_OTTOMAN",
          "CIVILIZATION_OTTOMAN",
          "CIVILIZATION_OTTOMAN",
          "CIVILIZATION_OTTOMAN",
          "CIVILIZATION_OTTOMAN",
          "CIVILIZATION_OTTOMAN"
         ],
         "legendgroup": "SULEIMAN",
         "line": {
          "color": "#636efa",
          "dash": "solid"
         },
         "marker": {
          "symbol": "circle"
         },
         "mode": "lines",
         "name": "SULEIMAN",
         "orientation": "v",
         "showlegend": true,
         "type": "scatter",
         "x": {
          "bdata": "AQIDBAUGBwgJCgsMDQ4PEBESExQVFhcYGRo=",
          "dtype": "i1"
         },
         "xaxis": "x",
         "y": {
          "bdata": "AAUFBQUFBgYGBggICAgICg0NDA8PDxARFhY=",
          "dtype": "i1"
         },
         "yaxis": "y"
        },
        {
         "hovertemplate": "<b>%{hovertext}</b><br><br>leader=DIDO<br>Game Turn=%{x}<br> Production=%{y}<extra></extra>",
         "hovertext": [
          "CIVILIZATION_PHOENICIA",
          "CIVILIZATION_PHOENICIA",
          "CIVILIZATION_PHOENICIA",
          "CIVILIZATION_PHOENICIA",
          "CIVILIZATION_PHOENICIA",
          "CIVILIZATION_PHOENICIA",
          "CIVILIZATION_PHOENICIA",
          "CIVILIZATION_PHOENICIA",
          "CIVILIZATION_PHOENICIA",
          "CIVILIZATION_PHOENICIA",
          "CIVILIZATION_PHOENICIA",
          "CIVILIZATION_PHOENICIA",
          "CIVILIZATION_PHOENICIA",
          "CIVILIZATION_PHOENICIA",
          "CIVILIZATION_PHOENICIA",
          "CIVILIZATION_PHOENICIA",
          "CIVILIZATION_PHOENICIA",
          "CIVILIZATION_PHOENICIA",
          "CIVILIZATION_PHOENICIA",
          "CIVILIZATION_PHOENICIA",
          "CIVILIZATION_PHOENICIA",
          "CIVILIZATION_PHOENICIA",
          "CIVILIZATION_PHOENICIA",
          "CIVILIZATION_PHOENICIA",
          "CIVILIZATION_PHOENICIA"
         ],
         "legendgroup": "DIDO",
         "line": {
          "color": "#EF553B",
          "dash": "solid"
         },
         "marker": {
          "symbol": "circle"
         },
         "mode": "lines",
         "name": "DIDO",
         "orientation": "v",
         "showlegend": true,
         "type": "scatter",
         "x": {
          "bdata": "AQIDBAUGBwgJCgsMDQ4PEBESExQVFhcYGQ==",
          "dtype": "i1"
         },
         "xaxis": "x",
         "y": {
          "bdata": "AAAICAgJCRERFBQXFxcXFxsbHBwfIyMjIw==",
          "dtype": "i1"
         },
         "yaxis": "y"
        },
        {
         "hovertemplate": "<b>%{hovertext}</b><br><br>leader=POUNDMAKER<br>Game Turn=%{x}<br> Production=%{y}<extra></extra>",
         "hovertext": [
          "CIVILIZATION_CREE",
          "CIVILIZATION_CREE",
          "CIVILIZATION_CREE",
          "CIVILIZATION_CREE",
          "CIVILIZATION_CREE",
          "CIVILIZATION_CREE",
          "CIVILIZATION_CREE",
          "CIVILIZATION_CREE",
          "CIVILIZATION_CREE",
          "CIVILIZATION_CREE",
          "CIVILIZATION_CREE",
          "CIVILIZATION_CREE",
          "CIVILIZATION_CREE",
          "CIVILIZATION_CREE",
          "CIVILIZATION_CREE",
          "CIVILIZATION_CREE",
          "CIVILIZATION_CREE",
          "CIVILIZATION_CREE",
          "CIVILIZATION_CREE",
          "CIVILIZATION_CREE",
          "CIVILIZATION_CREE",
          "CIVILIZATION_CREE",
          "CIVILIZATION_CREE",
          "CIVILIZATION_CREE",
          "CIVILIZATION_CREE"
         ],
         "legendgroup": "POUNDMAKER",
         "line": {
          "color": "#00cc96",
          "dash": "solid"
         },
         "marker": {
          "symbol": "circle"
         },
         "mode": "lines",
         "name": "POUNDMAKER",
         "orientation": "v",
         "showlegend": true,
         "type": "scatter",
         "x": {
          "bdata": "AQIDBAUGBwgJCgsMDQ4PEBESExQVFhcYGQ==",
          "dtype": "i1"
         },
         "xaxis": "x",
         "y": {
          "bdata": "AAYGCwsMCxETExYZGRgYGRseJCYmJystKw==",
          "dtype": "i1"
         },
         "yaxis": "y"
        },
        {
         "hovertemplate": "<b>%{hovertext}</b><br><br>leader=GILGAMESH<br>Game Turn=%{x}<br> Production=%{y}<extra></extra>",
         "hovertext": [
          "CIVILIZATION_SUMERIA",
          "CIVILIZATION_SUMERIA",
          "CIVILIZATION_SUMERIA",
          "CIVILIZATION_SUMERIA",
          "CIVILIZATION_SUMERIA",
          "CIVILIZATION_SUMERIA",
          "CIVILIZATION_SUMERIA",
          "CIVILIZATION_SUMERIA",
          "CIVILIZATION_SUMERIA",
          "CIVILIZATION_SUMERIA",
          "CIVILIZATION_SUMERIA",
          "CIVILIZATION_SUMERIA",
          "CIVILIZATION_SUMERIA",
          "CIVILIZATION_SUMERIA",
          "CIVILIZATION_SUMERIA",
          "CIVILIZATION_SUMERIA",
          "CIVILIZATION_SUMERIA",
          "CIVILIZATION_SUMERIA",
          "CIVILIZATION_SUMERIA",
          "CIVILIZATION_SUMERIA",
          "CIVILIZATION_SUMERIA",
          "CIVILIZATION_SUMERIA",
          "CIVILIZATION_SUMERIA",
          "CIVILIZATION_SUMERIA",
          "CIVILIZATION_SUMERIA"
         ],
         "legendgroup": "GILGAMESH",
         "line": {
          "color": "#ab63fa",
          "dash": "solid"
         },
         "marker": {
          "symbol": "circle"
         },
         "mode": "lines",
         "name": "GILGAMESH",
         "orientation": "v",
         "showlegend": true,
         "type": "scatter",
         "x": {
          "bdata": "AQIDBAUGBwgJCgsMDQ4PEBESExQVFhcYGQ==",
          "dtype": "i1"
         },
         "xaxis": "x",
         "y": {
          "bdata": "AAkJBgYIEBAQCwwRERERFBQUFhQUFBMZFw==",
          "dtype": "i1"
         },
         "yaxis": "y"
        },
        {
         "hovertemplate": "<b>%{hovertext}</b><br><br>leader=LAURIER<br>Game Turn=%{x}<br> Production=%{y}<extra></extra>",
         "hovertext": [
          "CIVILIZATION_CANADA",
          "CIVILIZATION_CANADA",
          "CIVILIZATION_CANADA",
          "CIVILIZATION_CANADA",
          "CIVILIZATION_CANADA",
          "CIVILIZATION_CANADA",
          "CIVILIZATION_CANADA",
          "CIVILIZATION_CANADA",
          "CIVILIZATION_CANADA",
          "CIVILIZATION_CANADA",
          "CIVILIZATION_CANADA",
          "CIVILIZATION_CANADA",
          "CIVILIZATION_CANADA",
          "CIVILIZATION_CANADA",
          "CIVILIZATION_CANADA",
          "CIVILIZATION_CANADA",
          "CIVILIZATION_CANADA",
          "CIVILIZATION_CANADA",
          "CIVILIZATION_CANADA",
          "CIVILIZATION_CANADA",
          "CIVILIZATION_CANADA",
          "CIVILIZATION_CANADA",
          "CIVILIZATION_CANADA",
          "CIVILIZATION_CANADA",
          "CIVILIZATION_CANADA"
         ],
         "legendgroup": "LAURIER",
         "line": {
          "color": "#FFA15A",
          "dash": "solid"
         },
         "marker": {
          "symbol": "circle"
         },
         "mode": "lines",
         "name": "LAURIER",
         "orientation": "v",
         "showlegend": true,
         "type": "scatter",
         "x": {
          "bdata": "AQIDBAUGBwgJCgsMDQ4PEBESExQVFhcYGQ==",
          "dtype": "i1"
         },
         "xaxis": "x",
         "y": {
          "bdata": "AAgIBAgJDxERERQWFBQRERUbFhYbGxsbHg==",
          "dtype": "i1"
         },
         "yaxis": "y"
        },
        {
         "hovertemplate": "<b>%{hovertext}</b><br><br>leader=HARDRADA<br>Game Turn=%{x}<br> Production=%{y}<extra></extra>",
         "hovertext": [
          "CIVILIZATION_NORWAY",
          "CIVILIZATION_NORWAY",
          "CIVILIZATION_NORWAY",
          "CIVILIZATION_NORWAY",
          "CIVILIZATION_NORWAY",
          "CIVILIZATION_NORWAY",
          "CIVILIZATION_NORWAY",
          "CIVILIZATION_NORWAY",
          "CIVILIZATION_NORWAY",
          "CIVILIZATION_NORWAY",
          "CIVILIZATION_NORWAY",
          "CIVILIZATION_NORWAY",
          "CIVILIZATION_NORWAY",
          "CIVILIZATION_NORWAY",
          "CIVILIZATION_NORWAY",
          "CIVILIZATION_NORWAY",
          "CIVILIZATION_NORWAY",
          "CIVILIZATION_NORWAY",
          "CIVILIZATION_NORWAY",
          "CIVILIZATION_NORWAY",
          "CIVILIZATION_NORWAY",
          "CIVILIZATION_NORWAY",
          "CIVILIZATION_NORWAY",
          "CIVILIZATION_NORWAY",
          "CIVILIZATION_NORWAY"
         ],
         "legendgroup": "HARDRADA",
         "line": {
          "color": "#19d3f3",
          "dash": "solid"
         },
         "marker": {
          "symbol": "circle"
         },
         "mode": "lines",
         "name": "HARDRADA",
         "orientation": "v",
         "showlegend": true,
         "type": "scatter",
         "x": {
          "bdata": "AQIDBAUGBwgJCgsMDQ4PEBESExQVFhcYGQ==",
          "dtype": "i1"
         },
         "xaxis": "x",
         "y": {
          "bdata": "AAkJCQkLCwsLCwsODg4OEA4RFhYZGRsbGQ==",
          "dtype": "i1"
         },
         "yaxis": "y"
        },
        {
         "hovertemplate": "<b>%{hovertext}</b><br><br>leader=HOJO<br>Game Turn=%{x}<br> Production=%{y}<extra></extra>",
         "hovertext": [
          "CIVILIZATION_JAPAN",
          "CIVILIZATION_JAPAN",
          "CIVILIZATION_JAPAN",
          "CIVILIZATION_JAPAN",
          "CIVILIZATION_JAPAN",
          "CIVILIZATION_JAPAN",
          "CIVILIZATION_JAPAN",
          "CIVILIZATION_JAPAN",
          "CIVILIZATION_JAPAN",
          "CIVILIZATION_JAPAN",
          "CIVILIZATION_JAPAN",
          "CIVILIZATION_JAPAN",
          "CIVILIZATION_JAPAN",
          "CIVILIZATION_JAPAN",
          "CIVILIZATION_JAPAN",
          "CIVILIZATION_JAPAN",
          "CIVILIZATION_JAPAN",
          "CIVILIZATION_JAPAN",
          "CIVILIZATION_JAPAN",
          "CIVILIZATION_JAPAN",
          "CIVILIZATION_JAPAN",
          "CIVILIZATION_JAPAN",
          "CIVILIZATION_JAPAN",
          "CIVILIZATION_JAPAN",
          "CIVILIZATION_JAPAN"
         ],
         "legendgroup": "HOJO",
         "line": {
          "color": "#FF6692",
          "dash": "solid"
         },
         "marker": {
          "symbol": "circle"
         },
         "mode": "lines",
         "name": "HOJO",
         "orientation": "v",
         "showlegend": true,
         "type": "scatter",
         "x": {
          "bdata": "AQIDBAUGBwgJCgsMDQ4PEBESExQVFhcYGQ==",
          "dtype": "i1"
         },
         "xaxis": "x",
         "y": {
          "bdata": "AAgICAkJCQ8PExMWFhYWFxcXFhgYHh4hIQ==",
          "dtype": "i1"
         },
         "yaxis": "y"
        },
        {
         "hovertemplate": "<b>%{hovertext}</b><br><br>leader=MONTEZUMA<br>Game Turn=%{x}<br> Production=%{y}<extra></extra>",
         "hovertext": [
          "CIVILIZATION_AZTEC",
          "CIVILIZATION_AZTEC",
          "CIVILIZATION_AZTEC",
          "CIVILIZATION_AZTEC",
          "CIVILIZATION_AZTEC",
          "CIVILIZATION_AZTEC",
          "CIVILIZATION_AZTEC",
          "CIVILIZATION_AZTEC",
          "CIVILIZATION_AZTEC",
          "CIVILIZATION_AZTEC",
          "CIVILIZATION_AZTEC",
          "CIVILIZATION_AZTEC",
          "CIVILIZATION_AZTEC",
          "CIVILIZATION_AZTEC",
          "CIVILIZATION_AZTEC",
          "CIVILIZATION_AZTEC",
          "CIVILIZATION_AZTEC",
          "CIVILIZATION_AZTEC",
          "CIVILIZATION_AZTEC",
          "CIVILIZATION_AZTEC",
          "CIVILIZATION_AZTEC",
          "CIVILIZATION_AZTEC",
          "CIVILIZATION_AZTEC",
          "CIVILIZATION_AZTEC",
          "CIVILIZATION_AZTEC"
         ],
         "legendgroup": "MONTEZUMA",
         "line": {
          "color": "#B6E880",
          "dash": "solid"
         },
         "marker": {
          "symbol": "circle"
         },
         "mode": "lines",
         "name": "MONTEZUMA",
         "orientation": "v",
         "showlegend": true,
         "type": "scatter",
         "x": {
          "bdata": "AQIDBAUGBwgJCgsMDQ4PEBESExQVFhcYGQ==",
          "dtype": "i1"
         },
         "xaxis": "x",
         "y": {
          "bdata": "AAkJCQkTFhYWFhYWGRskJCQjIyQnJCkrKw==",
          "dtype": "i1"
         },
         "yaxis": "y"
        },
        {
         "hovertemplate": "<b>%{hovertext}</b><br><br>leader=CATHERINE DE MEDICI<br>Game Turn=%{x}<br> Production=%{y}<extra></extra>",
         "hovertext": [
          "CIVILIZATION_FRANCE",
          "CIVILIZATION_FRANCE",
          "CIVILIZATION_FRANCE",
          "CIVILIZATION_FRANCE",
          "CIVILIZATION_FRANCE",
          "CIVILIZATION_FRANCE",
          "CIVILIZATION_FRANCE",
          "CIVILIZATION_FRANCE",
          "CIVILIZATION_FRANCE",
          "CIVILIZATION_FRANCE",
          "CIVILIZATION_FRANCE",
          "CIVILIZATION_FRANCE",
          "CIVILIZATION_FRANCE",
          "CIVILIZATION_FRANCE",
          "CIVILIZATION_FRANCE",
          "CIVILIZATION_FRANCE",
          "CIVILIZATION_FRANCE",
          "CIVILIZATION_FRANCE",
          "CIVILIZATION_FRANCE",
          "CIVILIZATION_FRANCE",
          "CIVILIZATION_FRANCE",
          "CIVILIZATION_FRANCE",
          "CIVILIZATION_FRANCE",
          "CIVILIZATION_FRANCE",
          "CIVILIZATION_FRANCE"
         ],
         "legendgroup": "CATHERINE DE MEDICI",
         "line": {
          "color": "#FF97FF",
          "dash": "solid"
         },
         "marker": {
          "symbol": "circle"
         },
         "mode": "lines",
         "name": "CATHERINE DE MEDICI",
         "orientation": "v",
         "showlegend": true,
         "type": "scatter",
         "x": {
          "bdata": "AQIDBAUGBwgJCgsMDQ4PEBESExQVFhcYGQ==",
          "dtype": "i1"
         },
         "xaxis": "x",
         "y": {
          "bdata": "AAgICA8PExMUFhYZFhkhISQlJSUjHywpMw==",
          "dtype": "i1"
         },
         "yaxis": "y"
        },
        {
         "hovertemplate": "<b>%{hovertext}</b><br><br>leader=SEONDEOK<br>Game Turn=%{x}<br> Production=%{y}<extra></extra>",
         "hovertext": [
          "CIVILIZATION_KOREA",
          "CIVILIZATION_KOREA",
          "CIVILIZATION_KOREA",
          "CIVILIZATION_KOREA",
          "CIVILIZATION_KOREA",
          "CIVILIZATION_KOREA",
          "CIVILIZATION_KOREA",
          "CIVILIZATION_KOREA",
          "CIVILIZATION_KOREA",
          "CIVILIZATION_KOREA",
          "CIVILIZATION_KOREA",
          "CIVILIZATION_KOREA",
          "CIVILIZATION_KOREA",
          "CIVILIZATION_KOREA",
          "CIVILIZATION_KOREA",
          "CIVILIZATION_KOREA",
          "CIVILIZATION_KOREA",
          "CIVILIZATION_KOREA",
          "CIVILIZATION_KOREA",
          "CIVILIZATION_KOREA",
          "CIVILIZATION_KOREA",
          "CIVILIZATION_KOREA",
          "CIVILIZATION_KOREA",
          "CIVILIZATION_KOREA",
          "CIVILIZATION_KOREA"
         ],
         "legendgroup": "SEONDEOK",
         "line": {
          "color": "#FECB52",
          "dash": "solid"
         },
         "marker": {
          "symbol": "circle"
         },
         "mode": "lines",
         "name": "SEONDEOK",
         "orientation": "v",
         "showlegend": true,
         "type": "scatter",
         "x": {
          "bdata": "AQIDBAUGBwgJCgsMDQ4PEBESExQVFhcYGQ==",
          "dtype": "i1"
         },
         "xaxis": "x",
         "y": {
          "bdata": "AAkJCQkMDg4XFxsbGxsbGRweJicrKy4vMg==",
          "dtype": "i1"
         },
         "yaxis": "y"
        }
       ],
       "layout": {
        "legend": {
         "title": {
          "text": "leader"
         },
         "tracegroupgap": 0
        },
        "margin": {
         "t": 60
        },
        "template": {
         "data": {
          "bar": [
           {
            "error_x": {
             "color": "#2a3f5f"
            },
            "error_y": {
             "color": "#2a3f5f"
            },
            "marker": {
             "line": {
              "color": "#E5ECF6",
              "width": 0.5
             },
             "pattern": {
              "fillmode": "overlay",
              "size": 10,
              "solidity": 0.2
             }
            },
            "type": "bar"
           }
          ],
          "barpolar": [
           {
            "marker": {
             "line": {
              "color": "#E5ECF6",
              "width": 0.5
             },
             "pattern": {
              "fillmode": "overlay",
              "size": 10,
              "solidity": 0.2
             }
            },
            "type": "barpolar"
           }
          ],
          "carpet": [
           {
            "aaxis": {
             "endlinecolor": "#2a3f5f",
             "gridcolor": "white",
             "linecolor": "white",
             "minorgridcolor": "white",
             "startlinecolor": "#2a3f5f"
            },
            "baxis": {
             "endlinecolor": "#2a3f5f",
             "gridcolor": "white",
             "linecolor": "white",
             "minorgridcolor": "white",
             "startlinecolor": "#2a3f5f"
            },
            "type": "carpet"
           }
          ],
          "choropleth": [
           {
            "colorbar": {
             "outlinewidth": 0,
             "ticks": ""
            },
            "type": "choropleth"
           }
          ],
          "contour": [
           {
            "colorbar": {
             "outlinewidth": 0,
             "ticks": ""
            },
            "colorscale": [
             [
              0,
              "#0d0887"
             ],
             [
              0.1111111111111111,
              "#46039f"
             ],
             [
              0.2222222222222222,
              "#7201a8"
             ],
             [
              0.3333333333333333,
              "#9c179e"
             ],
             [
              0.4444444444444444,
              "#bd3786"
             ],
             [
              0.5555555555555556,
              "#d8576b"
             ],
             [
              0.6666666666666666,
              "#ed7953"
             ],
             [
              0.7777777777777778,
              "#fb9f3a"
             ],
             [
              0.8888888888888888,
              "#fdca26"
             ],
             [
              1,
              "#f0f921"
             ]
            ],
            "type": "contour"
           }
          ],
          "contourcarpet": [
           {
            "colorbar": {
             "outlinewidth": 0,
             "ticks": ""
            },
            "type": "contourcarpet"
           }
          ],
          "heatmap": [
           {
            "colorbar": {
             "outlinewidth": 0,
             "ticks": ""
            },
            "colorscale": [
             [
              0,
              "#0d0887"
             ],
             [
              0.1111111111111111,
              "#46039f"
             ],
             [
              0.2222222222222222,
              "#7201a8"
             ],
             [
              0.3333333333333333,
              "#9c179e"
             ],
             [
              0.4444444444444444,
              "#bd3786"
             ],
             [
              0.5555555555555556,
              "#d8576b"
             ],
             [
              0.6666666666666666,
              "#ed7953"
             ],
             [
              0.7777777777777778,
              "#fb9f3a"
             ],
             [
              0.8888888888888888,
              "#fdca26"
             ],
             [
              1,
              "#f0f921"
             ]
            ],
            "type": "heatmap"
           }
          ],
          "histogram": [
           {
            "marker": {
             "pattern": {
              "fillmode": "overlay",
              "size": 10,
              "solidity": 0.2
             }
            },
            "type": "histogram"
           }
          ],
          "histogram2d": [
           {
            "colorbar": {
             "outlinewidth": 0,
             "ticks": ""
            },
            "colorscale": [
             [
              0,
              "#0d0887"
             ],
             [
              0.1111111111111111,
              "#46039f"
             ],
             [
              0.2222222222222222,
              "#7201a8"
             ],
             [
              0.3333333333333333,
              "#9c179e"
             ],
             [
              0.4444444444444444,
              "#bd3786"
             ],
             [
              0.5555555555555556,
              "#d8576b"
             ],
             [
              0.6666666666666666,
              "#ed7953"
             ],
             [
              0.7777777777777778,
              "#fb9f3a"
             ],
             [
              0.8888888888888888,
              "#fdca26"
             ],
             [
              1,
              "#f0f921"
             ]
            ],
            "type": "histogram2d"
           }
          ],
          "histogram2dcontour": [
           {
            "colorbar": {
             "outlinewidth": 0,
             "ticks": ""
            },
            "colorscale": [
             [
              0,
              "#0d0887"
             ],
             [
              0.1111111111111111,
              "#46039f"
             ],
             [
              0.2222222222222222,
              "#7201a8"
             ],
             [
              0.3333333333333333,
              "#9c179e"
             ],
             [
              0.4444444444444444,
              "#bd3786"
             ],
             [
              0.5555555555555556,
              "#d8576b"
             ],
             [
              0.6666666666666666,
              "#ed7953"
             ],
             [
              0.7777777777777778,
              "#fb9f3a"
             ],
             [
              0.8888888888888888,
              "#fdca26"
             ],
             [
              1,
              "#f0f921"
             ]
            ],
            "type": "histogram2dcontour"
           }
          ],
          "mesh3d": [
           {
            "colorbar": {
             "outlinewidth": 0,
             "ticks": ""
            },
            "type": "mesh3d"
           }
          ],
          "parcoords": [
           {
            "line": {
             "colorbar": {
              "outlinewidth": 0,
              "ticks": ""
             }
            },
            "type": "parcoords"
           }
          ],
          "pie": [
           {
            "automargin": true,
            "type": "pie"
           }
          ],
          "scatter": [
           {
            "fillpattern": {
             "fillmode": "overlay",
             "size": 10,
             "solidity": 0.2
            },
            "type": "scatter"
           }
          ],
          "scatter3d": [
           {
            "line": {
             "colorbar": {
              "outlinewidth": 0,
              "ticks": ""
             }
            },
            "marker": {
             "colorbar": {
              "outlinewidth": 0,
              "ticks": ""
             }
            },
            "type": "scatter3d"
           }
          ],
          "scattercarpet": [
           {
            "marker": {
             "colorbar": {
              "outlinewidth": 0,
              "ticks": ""
             }
            },
            "type": "scattercarpet"
           }
          ],
          "scattergeo": [
           {
            "marker": {
             "colorbar": {
              "outlinewidth": 0,
              "ticks": ""
             }
            },
            "type": "scattergeo"
           }
          ],
          "scattergl": [
           {
            "marker": {
             "colorbar": {
              "outlinewidth": 0,
              "ticks": ""
             }
            },
            "type": "scattergl"
           }
          ],
          "scattermap": [
           {
            "marker": {
             "colorbar": {
              "outlinewidth": 0,
              "ticks": ""
             }
            },
            "type": "scattermap"
           }
          ],
          "scattermapbox": [
           {
            "marker": {
             "colorbar": {
              "outlinewidth": 0,
              "ticks": ""
             }
            },
            "type": "scattermapbox"
           }
          ],
          "scatterpolar": [
           {
            "marker": {
             "colorbar": {
              "outlinewidth": 0,
              "ticks": ""
             }
            },
            "type": "scatterpolar"
           }
          ],
          "scatterpolargl": [
           {
            "marker": {
             "colorbar": {
              "outlinewidth": 0,
              "ticks": ""
             }
            },
            "type": "scatterpolargl"
           }
          ],
          "scatterternary": [
           {
            "marker": {
             "colorbar": {
              "outlinewidth": 0,
              "ticks": ""
             }
            },
            "type": "scatterternary"
           }
          ],
          "surface": [
           {
            "colorbar": {
             "outlinewidth": 0,
             "ticks": ""
            },
            "colorscale": [
             [
              0,
              "#0d0887"
             ],
             [
              0.1111111111111111,
              "#46039f"
             ],
             [
              0.2222222222222222,
              "#7201a8"
             ],
             [
              0.3333333333333333,
              "#9c179e"
             ],
             [
              0.4444444444444444,
              "#bd3786"
             ],
             [
              0.5555555555555556,
              "#d8576b"
             ],
             [
              0.6666666666666666,
              "#ed7953"
             ],
             [
              0.7777777777777778,
              "#fb9f3a"
             ],
             [
              0.8888888888888888,
              "#fdca26"
             ],
             [
              1,
              "#f0f921"
             ]
            ],
            "type": "surface"
           }
          ],
          "table": [
           {
            "cells": {
             "fill": {
              "color": "#EBF0F8"
             },
             "line": {
              "color": "white"
             }
            },
            "header": {
             "fill": {
              "color": "#C8D4E3"
             },
             "line": {
              "color": "white"
             }
            },
            "type": "table"
           }
          ]
         },
         "layout": {
          "annotationdefaults": {
           "arrowcolor": "#2a3f5f",
           "arrowhead": 0,
           "arrowwidth": 1
          },
          "autotypenumbers": "strict",
          "coloraxis": {
           "colorbar": {
            "outlinewidth": 0,
            "ticks": ""
           }
          },
          "colorscale": {
           "diverging": [
            [
             0,
             "#8e0152"
            ],
            [
             0.1,
             "#c51b7d"
            ],
            [
             0.2,
             "#de77ae"
            ],
            [
             0.3,
             "#f1b6da"
            ],
            [
             0.4,
             "#fde0ef"
            ],
            [
             0.5,
             "#f7f7f7"
            ],
            [
             0.6,
             "#e6f5d0"
            ],
            [
             0.7,
             "#b8e186"
            ],
            [
             0.8,
             "#7fbc41"
            ],
            [
             0.9,
             "#4d9221"
            ],
            [
             1,
             "#276419"
            ]
           ],
           "sequential": [
            [
             0,
             "#0d0887"
            ],
            [
             0.1111111111111111,
             "#46039f"
            ],
            [
             0.2222222222222222,
             "#7201a8"
            ],
            [
             0.3333333333333333,
             "#9c179e"
            ],
            [
             0.4444444444444444,
             "#bd3786"
            ],
            [
             0.5555555555555556,
             "#d8576b"
            ],
            [
             0.6666666666666666,
             "#ed7953"
            ],
            [
             0.7777777777777778,
             "#fb9f3a"
            ],
            [
             0.8888888888888888,
             "#fdca26"
            ],
            [
             1,
             "#f0f921"
            ]
           ],
           "sequentialminus": [
            [
             0,
             "#0d0887"
            ],
            [
             0.1111111111111111,
             "#46039f"
            ],
            [
             0.2222222222222222,
             "#7201a8"
            ],
            [
             0.3333333333333333,
             "#9c179e"
            ],
            [
             0.4444444444444444,
             "#bd3786"
            ],
            [
             0.5555555555555556,
             "#d8576b"
            ],
            [
             0.6666666666666666,
             "#ed7953"
            ],
            [
             0.7777777777777778,
             "#fb9f3a"
            ],
            [
             0.8888888888888888,
             "#fdca26"
            ],
            [
             1,
             "#f0f921"
            ]
           ]
          },
          "colorway": [
           "#636efa",
           "#EF553B",
           "#00cc96",
           "#ab63fa",
           "#FFA15A",
           "#19d3f3",
           "#FF6692",
           "#B6E880",
           "#FF97FF",
           "#FECB52"
          ],
          "font": {
           "color": "#2a3f5f"
          },
          "geo": {
           "bgcolor": "white",
           "lakecolor": "white",
           "landcolor": "#E5ECF6",
           "showlakes": true,
           "showland": true,
           "subunitcolor": "white"
          },
          "hoverlabel": {
           "align": "left"
          },
          "hovermode": "closest",
          "mapbox": {
           "style": "light"
          },
          "paper_bgcolor": "white",
          "plot_bgcolor": "#E5ECF6",
          "polar": {
           "angularaxis": {
            "gridcolor": "white",
            "linecolor": "white",
            "ticks": ""
           },
           "bgcolor": "#E5ECF6",
           "radialaxis": {
            "gridcolor": "white",
            "linecolor": "white",
            "ticks": ""
           }
          },
          "scene": {
           "xaxis": {
            "backgroundcolor": "#E5ECF6",
            "gridcolor": "white",
            "gridwidth": 2,
            "linecolor": "white",
            "showbackground": true,
            "ticks": "",
            "zerolinecolor": "white"
           },
           "yaxis": {
            "backgroundcolor": "#E5ECF6",
            "gridcolor": "white",
            "gridwidth": 2,
            "linecolor": "white",
            "showbackground": true,
            "ticks": "",
            "zerolinecolor": "white"
           },
           "zaxis": {
            "backgroundcolor": "#E5ECF6",
            "gridcolor": "white",
            "gridwidth": 2,
            "linecolor": "white",
            "showbackground": true,
            "ticks": "",
            "zerolinecolor": "white"
           }
          },
          "shapedefaults": {
           "line": {
            "color": "#2a3f5f"
           }
          },
          "ternary": {
           "aaxis": {
            "gridcolor": "white",
            "linecolor": "white",
            "ticks": ""
           },
           "baxis": {
            "gridcolor": "white",
            "linecolor": "white",
            "ticks": ""
           },
           "bgcolor": "#E5ECF6",
           "caxis": {
            "gridcolor": "white",
            "linecolor": "white",
            "ticks": ""
           }
          },
          "title": {
           "x": 0.05
          },
          "xaxis": {
           "automargin": true,
           "gridcolor": "white",
           "linecolor": "white",
           "ticks": "",
           "title": {
            "standoff": 15
           },
           "zerolinecolor": "white",
           "zerolinewidth": 2
          },
          "yaxis": {
           "automargin": true,
           "gridcolor": "white",
           "linecolor": "white",
           "ticks": "",
           "title": {
            "standoff": 15
           },
           "zerolinecolor": "white",
           "zerolinewidth": 2
          }
         }
        },
        "xaxis": {
         "anchor": "y",
         "domain": [
          0,
          1
         ],
         "title": {
          "text": "Game Turn"
         }
        },
        "yaxis": {
         "anchor": "x",
         "domain": [
          0,
          1
         ],
         "title": {
          "text": " Production"
         }
        }
       }
      }
     },
     "metadata": {},
     "output_type": "display_data"
    }
   ],
   "source": [
    "px.line(df, x='Game Turn', y=' Production', color='leader', hover_name=' Player').show()"
   ]
  },
  {
   "cell_type": "code",
   "execution_count": 38,
   "metadata": {},
   "outputs": [
    {
     "data": {
      "text/plain": [
       "['Game Turn',\n",
       " ' Player',\n",
       " ' Num Cities',\n",
       " ' Population',\n",
       " ' Techs',\n",
       " ' Civics',\n",
       " ' Land Units',\n",
       " ' corps',\n",
       " ' Armies',\n",
       " ' Naval Units',\n",
       " ' TILES: Owned',\n",
       " ' Improved',\n",
       " ' BALANCE: Gold',\n",
       " ' Faith',\n",
       " ' YIELDS: Science',\n",
       " ' Culture',\n",
       " ' Gold',\n",
       " ' Faith.1',\n",
       " ' Production',\n",
       " ' Food',\n",
       " 'player_num',\n",
       " 'civilization',\n",
       " 'leader',\n",
       " 'civilization_type',\n",
       " 'player_type']"
      ]
     },
     "execution_count": 38,
     "metadata": {},
     "output_type": "execute_result"
    }
   ],
   "source": [
    "df.columns.to_list()"
   ]
  },
  {
   "cell_type": "code",
   "execution_count": null,
   "metadata": {},
   "outputs": [
    {
     "data": {
      "application/vnd.microsoft.datawrangler.viewer.v0+json": {
       "columns": [
        {
         "name": "index",
         "rawType": "int64",
         "type": "integer"
        },
        {
         "name": "Game Turn",
         "rawType": "int64",
         "type": "integer"
        },
        {
         "name": "Player",
         "rawType": "object",
         "type": "string"
        },
        {
         "name": "Num Cities",
         "rawType": "int64",
         "type": "integer"
        },
        {
         "name": "Population",
         "rawType": "int64",
         "type": "integer"
        },
        {
         "name": "Techs",
         "rawType": "int64",
         "type": "integer"
        },
        {
         "name": "Civics",
         "rawType": "int64",
         "type": "integer"
        },
        {
         "name": "Land Units",
         "rawType": "int64",
         "type": "integer"
        },
        {
         "name": "corps",
         "rawType": "int64",
         "type": "integer"
        },
        {
         "name": "Armies",
         "rawType": "int64",
         "type": "integer"
        },
        {
         "name": "Naval Units",
         "rawType": "int64",
         "type": "integer"
        },
        {
         "name": "tiles_owned",
         "rawType": "int64",
         "type": "integer"
        },
        {
         "name": "improved",
         "rawType": "int64",
         "type": "integer"
        },
        {
         "name": "gold_balance",
         "rawType": "int64",
         "type": "integer"
        },
        {
         "name": "faith",
         "rawType": "int64",
         "type": "integer"
        },
        {
         "name": "science_per_turn",
         "rawType": "int64",
         "type": "integer"
        },
        {
         "name": "culture_per_turn",
         "rawType": "int64",
         "type": "integer"
        },
        {
         "name": "Gold",
         "rawType": "int64",
         "type": "integer"
        },
        {
         "name": "faith_per_turn",
         "rawType": "int64",
         "type": "integer"
        },
        {
         "name": "production_per_turn",
         "rawType": "int64",
         "type": "integer"
        },
        {
         "name": "food_per_turn",
         "rawType": "int64",
         "type": "integer"
        },
        {
         "name": "player_num",
         "rawType": "int64",
         "type": "integer"
        },
        {
         "name": "civilization",
         "rawType": "object",
         "type": "string"
        },
        {
         "name": "leader",
         "rawType": "object",
         "type": "string"
        },
        {
         "name": "civilization_type",
         "rawType": "object",
         "type": "string"
        },
        {
         "name": "player_type",
         "rawType": "object",
         "type": "string"
        }
       ],
       "conversionMethod": "pd.DataFrame",
       "ref": "986df67c-9f14-4479-9103-8897cd902eda",
       "rows": [
        [
         "0",
         "1",
         "CIVILIZATION_OTTOMAN",
         "0",
         "0",
         "0",
         "0",
         "1",
         "0",
         "0",
         "0",
         "0",
         "0",
         "5",
         "0",
         "0",
         "0",
         "0",
         "0",
         "0",
         "0",
         "0",
         "CIVILIZATION_OTTOMAN",
         "SULEIMAN",
         "FULL_CIV",
         "Human"
        ],
        [
         "1",
         "1",
         "CIVILIZATION_PHOENICIA",
         "0",
         "0",
         "0",
         "0",
         "3",
         "0",
         "0",
         "0",
         "0",
         "0",
         "5",
         "0",
         "0",
         "0",
         "0",
         "0",
         "0",
         "0",
         "1",
         "CIVILIZATION_PHOENICIA",
         "DIDO",
         "FULL_CIV",
         "AI"
        ],
        [
         "2",
         "1",
         "CIVILIZATION_CREE",
         "0",
         "0",
         "0",
         "0",
         "3",
         "0",
         "0",
         "0",
         "0",
         "0",
         "5",
         "0",
         "0",
         "0",
         "0",
         "0",
         "0",
         "0",
         "2",
         "CIVILIZATION_CREE",
         "POUNDMAKER",
         "FULL_CIV",
         "AI"
        ],
        [
         "3",
         "1",
         "CIVILIZATION_SUMERIA",
         "0",
         "0",
         "0",
         "0",
         "3",
         "0",
         "0",
         "0",
         "0",
         "0",
         "5",
         "0",
         "0",
         "0",
         "0",
         "0",
         "0",
         "0",
         "3",
         "CIVILIZATION_SUMERIA",
         "GILGAMESH",
         "FULL_CIV",
         "AI"
        ],
        [
         "4",
         "1",
         "CIVILIZATION_CANADA",
         "0",
         "0",
         "0",
         "0",
         "3",
         "0",
         "0",
         "0",
         "0",
         "0",
         "5",
         "0",
         "0",
         "0",
         "0",
         "0",
         "0",
         "0",
         "4",
         "CIVILIZATION_CANADA",
         "LAURIER",
         "FULL_CIV",
         "AI"
        ],
        [
         "5",
         "1",
         "CIVILIZATION_NORWAY",
         "0",
         "0",
         "0",
         "0",
         "3",
         "0",
         "0",
         "0",
         "0",
         "0",
         "5",
         "0",
         "0",
         "0",
         "0",
         "0",
         "0",
         "0",
         "5",
         "CIVILIZATION_NORWAY",
         "HARDRADA",
         "FULL_CIV",
         "AI"
        ],
        [
         "6",
         "1",
         "CIVILIZATION_JAPAN",
         "0",
         "0",
         "0",
         "0",
         "3",
         "0",
         "0",
         "0",
         "0",
         "0",
         "5",
         "0",
         "0",
         "0",
         "0",
         "0",
         "0",
         "0",
         "6",
         "CIVILIZATION_JAPAN",
         "HOJO",
         "FULL_CIV",
         "AI"
        ],
        [
         "7",
         "1",
         "CIVILIZATION_AZTEC",
         "0",
         "0",
         "0",
         "0",
         "3",
         "0",
         "0",
         "0",
         "0",
         "0",
         "5",
         "0",
         "0",
         "0",
         "0",
         "0",
         "0",
         "0",
         "7",
         "CIVILIZATION_AZTEC",
         "MONTEZUMA",
         "FULL_CIV",
         "AI"
        ],
        [
         "8",
         "1",
         "CIVILIZATION_FRANCE",
         "0",
         "0",
         "0",
         "0",
         "3",
         "0",
         "0",
         "0",
         "0",
         "0",
         "5",
         "0",
         "0",
         "0",
         "0",
         "0",
         "0",
         "0",
         "8",
         "CIVILIZATION_FRANCE",
         "CATHERINE DE MEDICI",
         "FULL_CIV",
         "AI"
        ],
        [
         "9",
         "1",
         "CIVILIZATION_KOREA",
         "0",
         "0",
         "0",
         "0",
         "3",
         "0",
         "0",
         "0",
         "0",
         "0",
         "5",
         "0",
         "0",
         "0",
         "0",
         "0",
         "0",
         "0",
         "9",
         "CIVILIZATION_KOREA",
         "SEONDEOK",
         "FULL_CIV",
         "AI"
        ],
        [
         "10",
         "2",
         "CIVILIZATION_OTTOMAN",
         "1",
         "1",
         "0",
         "0",
         "1",
         "0",
         "0",
         "0",
         "7",
         "0",
         "10",
         "0",
         "2",
         "1",
         "5",
         "0",
         "5",
         "5",
         "0",
         "CIVILIZATION_OTTOMAN",
         "SULEIMAN",
         "FULL_CIV",
         "Human"
        ],
        [
         "11",
         "2",
         "CIVILIZATION_PHOENICIA",
         "0",
         "0",
         "0",
         "0",
         "3",
         "0",
         "0",
         "0",
         "0",
         "0",
         "5",
         "0",
         "0",
         "0",
         "0",
         "0",
         "0",
         "0",
         "1",
         "CIVILIZATION_PHOENICIA",
         "DIDO",
         "FULL_CIV",
         "AI"
        ],
        [
         "12",
         "2",
         "CIVILIZATION_CREE",
         "1",
         "1",
         "0",
         "0",
         "3",
         "0",
         "0",
         "0",
         "7",
         "0",
         "13",
         "0",
         "3",
         "1",
         "8",
         "0",
         "6",
         "6",
         "2",
         "CIVILIZATION_CREE",
         "POUNDMAKER",
         "FULL_CIV",
         "AI"
        ],
        [
         "13",
         "2",
         "CIVILIZATION_SUMERIA",
         "1",
         "1",
         "0",
         "0",
         "3",
         "0",
         "0",
         "0",
         "7",
         "0",
         "13",
         "0",
         "3",
         "1",
         "8",
         "0",
         "9",
         "4",
         "3",
         "CIVILIZATION_SUMERIA",
         "GILGAMESH",
         "FULL_CIV",
         "AI"
        ],
        [
         "14",
         "2",
         "CIVILIZATION_CANADA",
         "1",
         "1",
         "0",
         "0",
         "3",
         "0",
         "0",
         "0",
         "7",
         "0",
         "13",
         "0",
         "3",
         "1",
         "8",
         "0",
         "8",
         "5",
         "4",
         "CIVILIZATION_CANADA",
         "LAURIER",
         "FULL_CIV",
         "AI"
        ],
        [
         "15",
         "2",
         "CIVILIZATION_NORWAY",
         "1",
         "1",
         "0",
         "0",
         "3",
         "0",
         "0",
         "0",
         "7",
         "0",
         "13",
         "0",
         "3",
         "1",
         "8",
         "0",
         "9",
         "4",
         "5",
         "CIVILIZATION_NORWAY",
         "HARDRADA",
         "FULL_CIV",
         "AI"
        ],
        [
         "16",
         "2",
         "CIVILIZATION_JAPAN",
         "1",
         "1",
         "0",
         "0",
         "3",
         "0",
         "0",
         "0",
         "7",
         "0",
         "13",
         "0",
         "3",
         "1",
         "8",
         "0",
         "8",
         "5",
         "6",
         "CIVILIZATION_JAPAN",
         "HOJO",
         "FULL_CIV",
         "AI"
        ],
        [
         "17",
         "2",
         "CIVILIZATION_AZTEC",
         "1",
         "1",
         "0",
         "0",
         "3",
         "0",
         "0",
         "0",
         "7",
         "0",
         "13",
         "0",
         "3",
         "1",
         "8",
         "0",
         "9",
         "4",
         "7",
         "CIVILIZATION_AZTEC",
         "MONTEZUMA",
         "FULL_CIV",
         "AI"
        ],
        [
         "18",
         "2",
         "CIVILIZATION_FRANCE",
         "1",
         "1",
         "0",
         "0",
         "3",
         "0",
         "0",
         "0",
         "7",
         "0",
         "13",
         "0",
         "3",
         "1",
         "8",
         "0",
         "8",
         "5",
         "8",
         "CIVILIZATION_FRANCE",
         "CATHERINE DE MEDICI",
         "FULL_CIV",
         "AI"
        ],
        [
         "19",
         "2",
         "CIVILIZATION_KOREA",
         "1",
         "1",
         "0",
         "0",
         "3",
         "0",
         "0",
         "0",
         "7",
         "0",
         "13",
         "0",
         "3",
         "1",
         "8",
         "0",
         "9",
         "4",
         "9",
         "CIVILIZATION_KOREA",
         "SEONDEOK",
         "FULL_CIV",
         "AI"
        ],
        [
         "20",
         "3",
         "CIVILIZATION_OTTOMAN",
         "1",
         "1",
         "0",
         "0",
         "1",
         "0",
         "0",
         "0",
         "7",
         "0",
         "15",
         "0",
         "2",
         "1",
         "5",
         "0",
         "5",
         "5",
         "0",
         "CIVILIZATION_OTTOMAN",
         "SULEIMAN",
         "FULL_CIV",
         "Human"
        ],
        [
         "21",
         "3",
         "CIVILIZATION_PHOENICIA",
         "1",
         "1",
         "0",
         "0",
         "3",
         "0",
         "0",
         "0",
         "7",
         "0",
         "13",
         "0",
         "3",
         "1",
         "8",
         "0",
         "8",
         "5",
         "1",
         "CIVILIZATION_PHOENICIA",
         "DIDO",
         "FULL_CIV",
         "AI"
        ],
        [
         "22",
         "3",
         "CIVILIZATION_CREE",
         "1",
         "1",
         "0",
         "0",
         "3",
         "0",
         "0",
         "0",
         "7",
         "1",
         "21",
         "0",
         "3",
         "1",
         "8",
         "0",
         "6",
         "6",
         "2",
         "CIVILIZATION_CREE",
         "POUNDMAKER",
         "FULL_CIV",
         "AI"
        ],
        [
         "23",
         "3",
         "CIVILIZATION_SUMERIA",
         "1",
         "1",
         "0",
         "0",
         "3",
         "0",
         "0",
         "0",
         "7",
         "0",
         "21",
         "0",
         "3",
         "1",
         "8",
         "0",
         "9",
         "4",
         "3",
         "CIVILIZATION_SUMERIA",
         "GILGAMESH",
         "FULL_CIV",
         "AI"
        ],
        [
         "24",
         "3",
         "CIVILIZATION_CANADA",
         "1",
         "1",
         "0",
         "0",
         "3",
         "0",
         "0",
         "0",
         "7",
         "0",
         "21",
         "0",
         "3",
         "1",
         "8",
         "0",
         "8",
         "5",
         "4",
         "CIVILIZATION_CANADA",
         "LAURIER",
         "FULL_CIV",
         "AI"
        ],
        [
         "25",
         "3",
         "CIVILIZATION_NORWAY",
         "1",
         "1",
         "0",
         "0",
         "3",
         "0",
         "0",
         "0",
         "7",
         "0",
         "21",
         "0",
         "3",
         "1",
         "8",
         "0",
         "9",
         "4",
         "5",
         "CIVILIZATION_NORWAY",
         "HARDRADA",
         "FULL_CIV",
         "AI"
        ],
        [
         "26",
         "3",
         "CIVILIZATION_JAPAN",
         "1",
         "1",
         "0",
         "0",
         "3",
         "0",
         "0",
         "0",
         "7",
         "0",
         "21",
         "0",
         "3",
         "1",
         "8",
         "0",
         "8",
         "5",
         "6",
         "CIVILIZATION_JAPAN",
         "HOJO",
         "FULL_CIV",
         "AI"
        ],
        [
         "27",
         "3",
         "CIVILIZATION_AZTEC",
         "1",
         "1",
         "0",
         "0",
         "3",
         "0",
         "0",
         "0",
         "7",
         "0",
         "21",
         "0",
         "3",
         "1",
         "8",
         "0",
         "9",
         "4",
         "7",
         "CIVILIZATION_AZTEC",
         "MONTEZUMA",
         "FULL_CIV",
         "AI"
        ],
        [
         "28",
         "3",
         "CIVILIZATION_FRANCE",
         "1",
         "1",
         "0",
         "0",
         "3",
         "0",
         "0",
         "0",
         "7",
         "0",
         "21",
         "0",
         "3",
         "1",
         "8",
         "0",
         "8",
         "5",
         "8",
         "CIVILIZATION_FRANCE",
         "CATHERINE DE MEDICI",
         "FULL_CIV",
         "AI"
        ],
        [
         "29",
         "3",
         "CIVILIZATION_KOREA",
         "1",
         "1",
         "0",
         "0",
         "3",
         "0",
         "0",
         "0",
         "7",
         "0",
         "21",
         "0",
         "3",
         "1",
         "8",
         "0",
         "9",
         "4",
         "9",
         "CIVILIZATION_KOREA",
         "SEONDEOK",
         "FULL_CIV",
         "AI"
        ],
        [
         "30",
         "4",
         "CIVILIZATION_OTTOMAN",
         "1",
         "1",
         "0",
         "0",
         "1",
         "0",
         "0",
         "0",
         "7",
         "0",
         "20",
         "0",
         "2",
         "1",
         "5",
         "0",
         "5",
         "5",
         "0",
         "CIVILIZATION_OTTOMAN",
         "SULEIMAN",
         "FULL_CIV",
         "Human"
        ],
        [
         "31",
         "4",
         "CIVILIZATION_PHOENICIA",
         "1",
         "1",
         "0",
         "0",
         "3",
         "0",
         "0",
         "0",
         "7",
         "1",
         "21",
         "0",
         "3",
         "1",
         "8",
         "0",
         "8",
         "5",
         "1",
         "CIVILIZATION_PHOENICIA",
         "DIDO",
         "FULL_CIV",
         "AI"
        ],
        [
         "32",
         "4",
         "CIVILIZATION_CREE",
         "1",
         "2",
         "0",
         "0",
         "3",
         "0",
         "0",
         "0",
         "7",
         "1",
         "29",
         "0",
         "3",
         "1",
         "8",
         "0",
         "11",
         "7",
         "2",
         "CIVILIZATION_CREE",
         "POUNDMAKER",
         "FULL_CIV",
         "AI"
        ],
        [
         "33",
         "4",
         "CIVILIZATION_SUMERIA",
         "1",
         "1",
         "0",
         "0",
         "4",
         "0",
         "0",
         "0",
         "7",
         "1",
         "29",
         "0",
         "5",
         "2",
         "8",
         "0",
         "6",
         "4",
         "3",
         "CIVILIZATION_SUMERIA",
         "GILGAMESH",
         "FULL_CIV",
         "AI"
        ],
        [
         "34",
         "4",
         "CIVILIZATION_CANADA",
         "1",
         "1",
         "0",
         "0",
         "4",
         "0",
         "0",
         "0",
         "7",
         "1",
         "29",
         "0",
         "3",
         "1",
         "8",
         "0",
         "4",
         "8",
         "4",
         "CIVILIZATION_CANADA",
         "LAURIER",
         "FULL_CIV",
         "AI"
        ],
        [
         "35",
         "4",
         "CIVILIZATION_NORWAY",
         "1",
         "1",
         "0",
         "0",
         "4",
         "0",
         "0",
         "0",
         "7",
         "0",
         "29",
         "0",
         "3",
         "1",
         "8",
         "0",
         "9",
         "4",
         "5",
         "CIVILIZATION_NORWAY",
         "HARDRADA",
         "FULL_CIV",
         "AI"
        ],
        [
         "36",
         "4",
         "CIVILIZATION_JAPAN",
         "1",
         "1",
         "0",
         "0",
         "3",
         "0",
         "0",
         "0",
         "7",
         "1",
         "29",
         "0",
         "3",
         "1",
         "8",
         "0",
         "8",
         "5",
         "6",
         "CIVILIZATION_JAPAN",
         "HOJO",
         "FULL_CIV",
         "AI"
        ],
        [
         "37",
         "4",
         "CIVILIZATION_AZTEC",
         "1",
         "1",
         "0",
         "0",
         "4",
         "0",
         "0",
         "0",
         "7",
         "1",
         "29",
         "0",
         "3",
         "1",
         "8",
         "0",
         "9",
         "4",
         "7",
         "CIVILIZATION_AZTEC",
         "MONTEZUMA",
         "FULL_CIV",
         "AI"
        ],
        [
         "38",
         "4",
         "CIVILIZATION_FRANCE",
         "1",
         "1",
         "0",
         "0",
         "4",
         "0",
         "0",
         "0",
         "7",
         "1",
         "29",
         "0",
         "3",
         "1",
         "8",
         "0",
         "8",
         "5",
         "8",
         "CIVILIZATION_FRANCE",
         "CATHERINE DE MEDICI",
         "FULL_CIV",
         "AI"
        ],
        [
         "39",
         "4",
         "CIVILIZATION_KOREA",
         "1",
         "1",
         "0",
         "0",
         "4",
         "0",
         "0",
         "0",
         "7",
         "1",
         "29",
         "0",
         "3",
         "1",
         "8",
         "0",
         "9",
         "4",
         "9",
         "CIVILIZATION_KOREA",
         "SEONDEOK",
         "FULL_CIV",
         "AI"
        ],
        [
         "40",
         "5",
         "CIVILIZATION_OTTOMAN",
         "1",
         "2",
         "0",
         "0",
         "2",
         "0",
         "0",
         "0",
         "7",
         "0",
         "25",
         "0",
         "3",
         "1",
         "5",
         "0",
         "5",
         "9",
         "0",
         "CIVILIZATION_OTTOMAN",
         "SULEIMAN",
         "FULL_CIV",
         "Human"
        ],
        [
         "41",
         "5",
         "CIVILIZATION_PHOENICIA",
         "1",
         "1",
         "0",
         "0",
         "4",
         "0",
         "0",
         "0",
         "7",
         "1",
         "29",
         "0",
         "3",
         "1",
         "8",
         "0",
         "8",
         "5",
         "1",
         "CIVILIZATION_PHOENICIA",
         "DIDO",
         "FULL_CIV",
         "AI"
        ],
        [
         "42",
         "5",
         "CIVILIZATION_CREE",
         "1",
         "2",
         "1",
         "0",
         "4",
         "0",
         "0",
         "0",
         "8",
         "1",
         "37",
         "0",
         "3",
         "1",
         "8",
         "0",
         "11",
         "7",
         "2",
         "CIVILIZATION_CREE",
         "POUNDMAKER",
         "FULL_CIV",
         "AI"
        ],
        [
         "43",
         "5",
         "CIVILIZATION_SUMERIA",
         "1",
         "1",
         "1",
         "0",
         "4",
         "0",
         "0",
         "0",
         "8",
         "1",
         "37",
         "0",
         "5",
         "2",
         "8",
         "0",
         "6",
         "4",
         "3",
         "CIVILIZATION_SUMERIA",
         "GILGAMESH",
         "FULL_CIV",
         "AI"
        ],
        [
         "44",
         "5",
         "CIVILIZATION_CANADA",
         "1",
         "2",
         "1",
         "0",
         "4",
         "0",
         "0",
         "0",
         "9",
         "1",
         "25",
         "0",
         "3",
         "1",
         "8",
         "0",
         "8",
         "9",
         "4",
         "CIVILIZATION_CANADA",
         "LAURIER",
         "FULL_CIV",
         "AI"
        ],
        [
         "45",
         "5",
         "CIVILIZATION_NORWAY",
         "1",
         "1",
         "1",
         "0",
         "4",
         "0",
         "0",
         "0",
         "7",
         "0",
         "37",
         "0",
         "3",
         "1",
         "8",
         "0",
         "9",
         "4",
         "5",
         "CIVILIZATION_NORWAY",
         "HARDRADA",
         "FULL_CIV",
         "AI"
        ],
        [
         "46",
         "5",
         "CIVILIZATION_JAPAN",
         "1",
         "2",
         "1",
         "0",
         "3",
         "0",
         "0",
         "0",
         "8",
         "1",
         "38",
         "0",
         "3",
         "1",
         "9",
         "0",
         "9",
         "8",
         "6",
         "CIVILIZATION_JAPAN",
         "HOJO",
         "FULL_CIV",
         "AI"
        ],
        [
         "47",
         "5",
         "CIVILIZATION_AZTEC",
         "1",
         "1",
         "1",
         "0",
         "4",
         "0",
         "0",
         "0",
         "7",
         "1",
         "40",
         "0",
         "3",
         "1",
         "11",
         "0",
         "9",
         "4",
         "7",
         "CIVILIZATION_AZTEC",
         "MONTEZUMA",
         "FULL_CIV",
         "AI"
        ],
        [
         "48",
         "5",
         "CIVILIZATION_FRANCE",
         "2",
         "3",
         "1",
         "0",
         "4",
         "0",
         "0",
         "0",
         "15",
         "1",
         "37",
         "0",
         "4",
         "2",
         "8",
         "0",
         "15",
         "11",
         "8",
         "CIVILIZATION_FRANCE",
         "CATHERINE DE MEDICI",
         "FULL_CIV",
         "AI"
        ],
        [
         "49",
         "5",
         "CIVILIZATION_KOREA",
         "1",
         "1",
         "1",
         "0",
         "4",
         "0",
         "0",
         "0",
         "7",
         "1",
         "37",
         "0",
         "3",
         "1",
         "8",
         "0",
         "9",
         "4",
         "9",
         "CIVILIZATION_KOREA",
         "SEONDEOK",
         "FULL_CIV",
         "AI"
        ]
       ],
       "shape": {
        "columns": 25,
        "rows": 251
       }
      },
      "text/html": [
       "<div>\n",
       "<style scoped>\n",
       "    .dataframe tbody tr th:only-of-type {\n",
       "        vertical-align: middle;\n",
       "    }\n",
       "\n",
       "    .dataframe tbody tr th {\n",
       "        vertical-align: top;\n",
       "    }\n",
       "\n",
       "    .dataframe thead th {\n",
       "        text-align: right;\n",
       "    }\n",
       "</style>\n",
       "<table border=\"1\" class=\"dataframe\">\n",
       "  <thead>\n",
       "    <tr style=\"text-align: right;\">\n",
       "      <th></th>\n",
       "      <th>Game Turn</th>\n",
       "      <th>Player</th>\n",
       "      <th>Num Cities</th>\n",
       "      <th>Population</th>\n",
       "      <th>Techs</th>\n",
       "      <th>Civics</th>\n",
       "      <th>Land Units</th>\n",
       "      <th>corps</th>\n",
       "      <th>Armies</th>\n",
       "      <th>Naval Units</th>\n",
       "      <th>...</th>\n",
       "      <th>culture_per_turn</th>\n",
       "      <th>Gold</th>\n",
       "      <th>faith_per_turn</th>\n",
       "      <th>production_per_turn</th>\n",
       "      <th>food_per_turn</th>\n",
       "      <th>player_num</th>\n",
       "      <th>civilization</th>\n",
       "      <th>leader</th>\n",
       "      <th>civilization_type</th>\n",
       "      <th>player_type</th>\n",
       "    </tr>\n",
       "  </thead>\n",
       "  <tbody>\n",
       "    <tr>\n",
       "      <th>0</th>\n",
       "      <td>1</td>\n",
       "      <td>CIVILIZATION_OTTOMAN</td>\n",
       "      <td>0</td>\n",
       "      <td>0</td>\n",
       "      <td>0</td>\n",
       "      <td>0</td>\n",
       "      <td>1</td>\n",
       "      <td>0</td>\n",
       "      <td>0</td>\n",
       "      <td>0</td>\n",
       "      <td>...</td>\n",
       "      <td>0</td>\n",
       "      <td>0</td>\n",
       "      <td>0</td>\n",
       "      <td>0</td>\n",
       "      <td>0</td>\n",
       "      <td>0</td>\n",
       "      <td>CIVILIZATION_OTTOMAN</td>\n",
       "      <td>SULEIMAN</td>\n",
       "      <td>FULL_CIV</td>\n",
       "      <td>Human</td>\n",
       "    </tr>\n",
       "    <tr>\n",
       "      <th>1</th>\n",
       "      <td>1</td>\n",
       "      <td>CIVILIZATION_PHOENICIA</td>\n",
       "      <td>0</td>\n",
       "      <td>0</td>\n",
       "      <td>0</td>\n",
       "      <td>0</td>\n",
       "      <td>3</td>\n",
       "      <td>0</td>\n",
       "      <td>0</td>\n",
       "      <td>0</td>\n",
       "      <td>...</td>\n",
       "      <td>0</td>\n",
       "      <td>0</td>\n",
       "      <td>0</td>\n",
       "      <td>0</td>\n",
       "      <td>0</td>\n",
       "      <td>1</td>\n",
       "      <td>CIVILIZATION_PHOENICIA</td>\n",
       "      <td>DIDO</td>\n",
       "      <td>FULL_CIV</td>\n",
       "      <td>AI</td>\n",
       "    </tr>\n",
       "    <tr>\n",
       "      <th>2</th>\n",
       "      <td>1</td>\n",
       "      <td>CIVILIZATION_CREE</td>\n",
       "      <td>0</td>\n",
       "      <td>0</td>\n",
       "      <td>0</td>\n",
       "      <td>0</td>\n",
       "      <td>3</td>\n",
       "      <td>0</td>\n",
       "      <td>0</td>\n",
       "      <td>0</td>\n",
       "      <td>...</td>\n",
       "      <td>0</td>\n",
       "      <td>0</td>\n",
       "      <td>0</td>\n",
       "      <td>0</td>\n",
       "      <td>0</td>\n",
       "      <td>2</td>\n",
       "      <td>CIVILIZATION_CREE</td>\n",
       "      <td>POUNDMAKER</td>\n",
       "      <td>FULL_CIV</td>\n",
       "      <td>AI</td>\n",
       "    </tr>\n",
       "    <tr>\n",
       "      <th>3</th>\n",
       "      <td>1</td>\n",
       "      <td>CIVILIZATION_SUMERIA</td>\n",
       "      <td>0</td>\n",
       "      <td>0</td>\n",
       "      <td>0</td>\n",
       "      <td>0</td>\n",
       "      <td>3</td>\n",
       "      <td>0</td>\n",
       "      <td>0</td>\n",
       "      <td>0</td>\n",
       "      <td>...</td>\n",
       "      <td>0</td>\n",
       "      <td>0</td>\n",
       "      <td>0</td>\n",
       "      <td>0</td>\n",
       "      <td>0</td>\n",
       "      <td>3</td>\n",
       "      <td>CIVILIZATION_SUMERIA</td>\n",
       "      <td>GILGAMESH</td>\n",
       "      <td>FULL_CIV</td>\n",
       "      <td>AI</td>\n",
       "    </tr>\n",
       "    <tr>\n",
       "      <th>4</th>\n",
       "      <td>1</td>\n",
       "      <td>CIVILIZATION_CANADA</td>\n",
       "      <td>0</td>\n",
       "      <td>0</td>\n",
       "      <td>0</td>\n",
       "      <td>0</td>\n",
       "      <td>3</td>\n",
       "      <td>0</td>\n",
       "      <td>0</td>\n",
       "      <td>0</td>\n",
       "      <td>...</td>\n",
       "      <td>0</td>\n",
       "      <td>0</td>\n",
       "      <td>0</td>\n",
       "      <td>0</td>\n",
       "      <td>0</td>\n",
       "      <td>4</td>\n",
       "      <td>CIVILIZATION_CANADA</td>\n",
       "      <td>LAURIER</td>\n",
       "      <td>FULL_CIV</td>\n",
       "      <td>AI</td>\n",
       "    </tr>\n",
       "    <tr>\n",
       "      <th>...</th>\n",
       "      <td>...</td>\n",
       "      <td>...</td>\n",
       "      <td>...</td>\n",
       "      <td>...</td>\n",
       "      <td>...</td>\n",
       "      <td>...</td>\n",
       "      <td>...</td>\n",
       "      <td>...</td>\n",
       "      <td>...</td>\n",
       "      <td>...</td>\n",
       "      <td>...</td>\n",
       "      <td>...</td>\n",
       "      <td>...</td>\n",
       "      <td>...</td>\n",
       "      <td>...</td>\n",
       "      <td>...</td>\n",
       "      <td>...</td>\n",
       "      <td>...</td>\n",
       "      <td>...</td>\n",
       "      <td>...</td>\n",
       "      <td>...</td>\n",
       "    </tr>\n",
       "    <tr>\n",
       "      <th>246</th>\n",
       "      <td>25</td>\n",
       "      <td>CIVILIZATION_JAPAN</td>\n",
       "      <td>3</td>\n",
       "      <td>11</td>\n",
       "      <td>4</td>\n",
       "      <td>4</td>\n",
       "      <td>6</td>\n",
       "      <td>0</td>\n",
       "      <td>0</td>\n",
       "      <td>3</td>\n",
       "      <td>...</td>\n",
       "      <td>9</td>\n",
       "      <td>13</td>\n",
       "      <td>1</td>\n",
       "      <td>33</td>\n",
       "      <td>37</td>\n",
       "      <td>6</td>\n",
       "      <td>CIVILIZATION_JAPAN</td>\n",
       "      <td>HOJO</td>\n",
       "      <td>FULL_CIV</td>\n",
       "      <td>AI</td>\n",
       "    </tr>\n",
       "    <tr>\n",
       "      <th>247</th>\n",
       "      <td>25</td>\n",
       "      <td>CIVILIZATION_AZTEC</td>\n",
       "      <td>3</td>\n",
       "      <td>8</td>\n",
       "      <td>6</td>\n",
       "      <td>6</td>\n",
       "      <td>7</td>\n",
       "      <td>0</td>\n",
       "      <td>0</td>\n",
       "      <td>0</td>\n",
       "      <td>...</td>\n",
       "      <td>9</td>\n",
       "      <td>8</td>\n",
       "      <td>17</td>\n",
       "      <td>43</td>\n",
       "      <td>20</td>\n",
       "      <td>7</td>\n",
       "      <td>CIVILIZATION_AZTEC</td>\n",
       "      <td>MONTEZUMA</td>\n",
       "      <td>FULL_CIV</td>\n",
       "      <td>AI</td>\n",
       "    </tr>\n",
       "    <tr>\n",
       "      <th>248</th>\n",
       "      <td>25</td>\n",
       "      <td>CIVILIZATION_FRANCE</td>\n",
       "      <td>3</td>\n",
       "      <td>11</td>\n",
       "      <td>7</td>\n",
       "      <td>6</td>\n",
       "      <td>6</td>\n",
       "      <td>0</td>\n",
       "      <td>0</td>\n",
       "      <td>0</td>\n",
       "      <td>...</td>\n",
       "      <td>9</td>\n",
       "      <td>17</td>\n",
       "      <td>21</td>\n",
       "      <td>51</td>\n",
       "      <td>27</td>\n",
       "      <td>8</td>\n",
       "      <td>CIVILIZATION_FRANCE</td>\n",
       "      <td>CATHERINE DE MEDICI</td>\n",
       "      <td>FULL_CIV</td>\n",
       "      <td>AI</td>\n",
       "    </tr>\n",
       "    <tr>\n",
       "      <th>249</th>\n",
       "      <td>25</td>\n",
       "      <td>CIVILIZATION_KOREA</td>\n",
       "      <td>3</td>\n",
       "      <td>10</td>\n",
       "      <td>7</td>\n",
       "      <td>6</td>\n",
       "      <td>8</td>\n",
       "      <td>0</td>\n",
       "      <td>0</td>\n",
       "      <td>0</td>\n",
       "      <td>...</td>\n",
       "      <td>12</td>\n",
       "      <td>8</td>\n",
       "      <td>6</td>\n",
       "      <td>50</td>\n",
       "      <td>29</td>\n",
       "      <td>9</td>\n",
       "      <td>CIVILIZATION_KOREA</td>\n",
       "      <td>SEONDEOK</td>\n",
       "      <td>FULL_CIV</td>\n",
       "      <td>AI</td>\n",
       "    </tr>\n",
       "    <tr>\n",
       "      <th>250</th>\n",
       "      <td>26</td>\n",
       "      <td>CIVILIZATION_OTTOMAN</td>\n",
       "      <td>3</td>\n",
       "      <td>9</td>\n",
       "      <td>4</td>\n",
       "      <td>3</td>\n",
       "      <td>3</td>\n",
       "      <td>0</td>\n",
       "      <td>0</td>\n",
       "      <td>0</td>\n",
       "      <td>...</td>\n",
       "      <td>6</td>\n",
       "      <td>6</td>\n",
       "      <td>0</td>\n",
       "      <td>22</td>\n",
       "      <td>28</td>\n",
       "      <td>0</td>\n",
       "      <td>CIVILIZATION_OTTOMAN</td>\n",
       "      <td>SULEIMAN</td>\n",
       "      <td>FULL_CIV</td>\n",
       "      <td>Human</td>\n",
       "    </tr>\n",
       "  </tbody>\n",
       "</table>\n",
       "<p>251 rows × 25 columns</p>\n",
       "</div>"
      ],
      "text/plain": [
       "     Game Turn                  Player  Num Cities  Population  Techs  Civics  \\\n",
       "0            1    CIVILIZATION_OTTOMAN           0           0      0       0   \n",
       "1            1  CIVILIZATION_PHOENICIA           0           0      0       0   \n",
       "2            1       CIVILIZATION_CREE           0           0      0       0   \n",
       "3            1    CIVILIZATION_SUMERIA           0           0      0       0   \n",
       "4            1     CIVILIZATION_CANADA           0           0      0       0   \n",
       "..         ...                     ...         ...         ...    ...     ...   \n",
       "246         25      CIVILIZATION_JAPAN           3          11      4       4   \n",
       "247         25      CIVILIZATION_AZTEC           3           8      6       6   \n",
       "248         25     CIVILIZATION_FRANCE           3          11      7       6   \n",
       "249         25      CIVILIZATION_KOREA           3          10      7       6   \n",
       "250         26    CIVILIZATION_OTTOMAN           3           9      4       3   \n",
       "\n",
       "     Land Units  corps  Armies  Naval Units  ...  culture_per_turn  Gold  \\\n",
       "0             1      0       0            0  ...                 0     0   \n",
       "1             3      0       0            0  ...                 0     0   \n",
       "2             3      0       0            0  ...                 0     0   \n",
       "3             3      0       0            0  ...                 0     0   \n",
       "4             3      0       0            0  ...                 0     0   \n",
       "..          ...    ...     ...          ...  ...               ...   ...   \n",
       "246           6      0       0            3  ...                 9    13   \n",
       "247           7      0       0            0  ...                 9     8   \n",
       "248           6      0       0            0  ...                 9    17   \n",
       "249           8      0       0            0  ...                12     8   \n",
       "250           3      0       0            0  ...                 6     6   \n",
       "\n",
       "     faith_per_turn  production_per_turn  food_per_turn  player_num  \\\n",
       "0                 0                    0              0           0   \n",
       "1                 0                    0              0           1   \n",
       "2                 0                    0              0           2   \n",
       "3                 0                    0              0           3   \n",
       "4                 0                    0              0           4   \n",
       "..              ...                  ...            ...         ...   \n",
       "246               1                   33             37           6   \n",
       "247              17                   43             20           7   \n",
       "248              21                   51             27           8   \n",
       "249               6                   50             29           9   \n",
       "250               0                   22             28           0   \n",
       "\n",
       "               civilization               leader  civilization_type  \\\n",
       "0      CIVILIZATION_OTTOMAN             SULEIMAN           FULL_CIV   \n",
       "1    CIVILIZATION_PHOENICIA                 DIDO           FULL_CIV   \n",
       "2         CIVILIZATION_CREE           POUNDMAKER           FULL_CIV   \n",
       "3      CIVILIZATION_SUMERIA            GILGAMESH           FULL_CIV   \n",
       "4       CIVILIZATION_CANADA              LAURIER           FULL_CIV   \n",
       "..                      ...                  ...                ...   \n",
       "246      CIVILIZATION_JAPAN                 HOJO           FULL_CIV   \n",
       "247      CIVILIZATION_AZTEC            MONTEZUMA           FULL_CIV   \n",
       "248     CIVILIZATION_FRANCE  CATHERINE DE MEDICI           FULL_CIV   \n",
       "249      CIVILIZATION_KOREA             SEONDEOK           FULL_CIV   \n",
       "250    CIVILIZATION_OTTOMAN             SULEIMAN           FULL_CIV   \n",
       "\n",
       "     player_type  \n",
       "0          Human  \n",
       "1             AI  \n",
       "2             AI  \n",
       "3             AI  \n",
       "4             AI  \n",
       "..           ...  \n",
       "246           AI  \n",
       "247           AI  \n",
       "248           AI  \n",
       "249           AI  \n",
       "250        Human  \n",
       "\n",
       "[251 rows x 25 columns]"
      ]
     },
     "execution_count": 40,
     "metadata": {},
     "output_type": "execute_result"
    }
   ],
   "source": [
    "df = df.rename({x: x.strip() for x in df.columns}, axis=1)\n",
    "df = df.rename({\n",
    "    'TILES: Owned': 'tiles_owned',\n",
    "    'Improved': 'tiles_improved',\n",
    "    'BALANCE: Gold': 'gold_balance',\n",
    "    'Faith': 'faith_balance',\n",
    "    'YIELDS: Science': 'science_per_turn',\n",
    "    'Culture': 'culture_per_turn',\n",
    "    'Faith.1': 'faith_per_turn',\n",
    "    'Production': 'production_per_turn',\n",
    "    'Food': 'food_per_turn'\n",
    "}, axis=1)\n",
    "df"
   ]
  },
  {
   "cell_type": "code",
   "execution_count": null,
   "metadata": {},
   "outputs": [],
   "source": []
  }
 ],
 "metadata": {
  "kernelspec": {
   "display_name": "civ",
   "language": "python",
   "name": "python3"
  },
  "language_info": {
   "codemirror_mode": {
    "name": "ipython",
    "version": 3
   },
   "file_extension": ".py",
   "mimetype": "text/x-python",
   "name": "python",
   "nbconvert_exporter": "python",
   "pygments_lexer": "ipython3",
   "version": "3.11.11"
  }
 },
 "nbformat": 4,
 "nbformat_minor": 2
}
